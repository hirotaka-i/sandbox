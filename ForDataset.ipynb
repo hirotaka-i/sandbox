{
 "cells": [
  {
   "cell_type": "code",
   "execution_count": null,
   "metadata": {},
   "outputs": [],
   "source": [
    "%%bash\n",
    "# The script to give header for filter file\n",
    "for DATASET in $(ls ../dataset);do\n",
    "    for FILE in $(ls ../dataset/$DATASET);do\n",
    "        sed -i -e '1 s/Rsq/Rsq\\n/' ../dataset/$DATASET/$FILE\n",
    "    done\n",
    "done"
   ]
  },
  {
   "cell_type": "code",
   "execution_count": null,
   "metadata": {},
   "outputs": [],
   "source": []
  },
  {
   "cell_type": "markdown",
   "metadata": {},
   "source": [
    "# Problem setting\n",
    "* 4 observations.\n",
    "* x = 1, 2, 3, 4\n",
    "* Y = 9, 13, 32, 41\n",
    "$$Y = \\beta_0 x^0 + \\beta_1 x^1 + \\beta_2 x^2 + \\beta_3 x^3$$"
   ]
  },
  {
   "cell_type": "markdown",
   "metadata": {},
   "source": [
    "# Create Desing Matrix\n",
    "x = 1 -> [1,1,1,1]    \n",
    "x = 2 -> [1,2,4,8]    \n",
    "x = 3 -> [1,3,9,27]    \n",
    "x = 4 -> [1,4,16,64]    \n",
    "$\\beta=[\\beta_0,\\beta_1,\\beta_2,\\beta_3]^T$\n",
    "$$Y = X\\beta + \\epsilon$$\n",
    "Usually, \n",
    "$$X^T Y =X^T X\\beta$$\n",
    "$$(X^T X)^{-1}X^T Y =(X^T X)^{-1}X^T X\\beta$$\n",
    "$$\\beta=(X^T X)^{-1}X^T Y$$\n"
   ]
  },
  {
   "cell_type": "code",
   "execution_count": 169,
   "metadata": {},
   "outputs": [
    {
     "name": "stdout",
     "output_type": "stream",
     "text": [
      "[[ 1  1  1  1]\n",
      " [ 1  2  4  8]\n",
      " [ 1  3  9 27]\n",
      " [ 1  4 16 64]]\n"
     ]
    }
   ],
   "source": [
    "import numpy as np\n",
    "x= np.array([1,2,3,4])\n",
    "X = np.vstack((x**k for k in range(4)))\n",
    "Xt = np.transpose(X)\n",
    "print(Xt)"
   ]
  },
  {
   "cell_type": "markdown",
   "metadata": {},
   "source": [
    "# QR decomposition\n",
    "$$X=QR$$\n",
    "$$(Q^T = Q^{-1}, det(Q)=1)$$"
   ]
  },
  {
   "cell_type": "code",
   "execution_count": 170,
   "metadata": {},
   "outputs": [
    {
     "name": "stdout",
     "output_type": "stream",
     "text": [
      "[[-0.5         0.67082039  0.5         0.2236068 ]\n",
      " [-0.5         0.2236068  -0.5        -0.67082039]\n",
      " [-0.5        -0.2236068  -0.5         0.67082039]\n",
      " [-0.5        -0.67082039  0.5        -0.2236068 ]]\n"
     ]
    }
   ],
   "source": [
    "Q,R = np.linalg.qr(Xt)\n",
    "print (Q)"
   ]
  },
  {
   "cell_type": "code",
   "execution_count": 172,
   "metadata": {},
   "outputs": [
    {
     "name": "stdout",
     "output_type": "stream",
     "text": [
      "[[ -2.          -5.         -15.         -50.        ]\n",
      " [  0.          -2.23606798 -11.18033989 -46.51021393]\n",
      " [  0.           0.           2.          15.        ]\n",
      " [  0.           0.           0.          -1.34164079]]\n"
     ]
    }
   ],
   "source": [
    "print(R)"
   ]
  },
  {
   "cell_type": "code",
   "execution_count": 173,
   "metadata": {},
   "outputs": [
    {
     "data": {
      "text/plain": [
       "array([[ 1.,  1.,  1.,  1.],\n",
       "       [ 1.,  2.,  4.,  8.],\n",
       "       [ 1.,  3.,  9., 27.],\n",
       "       [ 1.,  4., 16., 64.]])"
      ]
     },
     "execution_count": 173,
     "metadata": {},
     "output_type": "execute_result"
    }
   ],
   "source": [
    "np.matmul(Q,R)"
   ]
  },
  {
   "cell_type": "code",
   "execution_count": 183,
   "metadata": {},
   "outputs": [
    {
     "data": {
      "text/plain": [
       "array([[ 1.00000000e+00,  2.77555756e-17,  8.32667268e-17,\n",
       "        -5.55111512e-17],\n",
       "       [ 2.77555756e-17,  1.00000000e+00,  0.00000000e+00,\n",
       "        -1.53429048e-17],\n",
       "       [ 8.32667268e-17,  0.00000000e+00,  1.00000000e+00,\n",
       "         8.32667268e-17],\n",
       "       [-5.55111512e-17, -1.53429048e-17,  8.32667268e-17,\n",
       "         1.00000000e+00]])"
      ]
     },
     "execution_count": 183,
     "metadata": {},
     "output_type": "execute_result"
    }
   ],
   "source": [
    "Qt = np.transpose(Q)\n",
    "np.matmul(Q, Qt)"
   ]
  },
  {
   "cell_type": "code",
   "execution_count": 175,
   "metadata": {},
   "outputs": [
    {
     "data": {
      "text/plain": [
       "array([[ 1.0000000e+00, -2.0534340e-17,  8.6219662e-17, -5.5511151e-17],\n",
       "       [-2.0534340e-17,  1.0000000e+00,  0.0000000e+00, -1.3936734e-17],\n",
       "       [ 8.6219662e-17,  0.0000000e+00,  1.0000000e+00,  8.7029287e-17],\n",
       "       [-5.5511151e-17, -1.3936734e-17,  8.7029287e-17,  1.0000000e+00]],\n",
       "      dtype=float32)"
      ]
     },
     "execution_count": 175,
     "metadata": {},
     "output_type": "execute_result"
    }
   ],
   "source": [
    "np.matmul(Q, Qt).astype('float32')"
   ]
  },
  {
   "cell_type": "code",
   "execution_count": 176,
   "metadata": {},
   "outputs": [
    {
     "data": {
      "text/plain": [
       "-0.9999999999999999"
      ]
     },
     "execution_count": 176,
     "metadata": {},
     "output_type": "execute_result"
    }
   ],
   "source": [
    "np.linalg.det(Q)"
   ]
  },
  {
   "cell_type": "markdown",
   "metadata": {},
   "source": [
    "# Solve the problem without using inverse matrix\n",
    "$$Y = X\\beta$$\n",
    "$$Q^T Y = Q^T X \\beta$$\n",
    "$$Q^T Y = Q^T QR \\beta$$\n",
    "$$Q^T Y = R\\beta$$\n",
    "$R$ is an upper triangular matrix, so we can calculate beta one by one from the bottom law    \n",
    "(e.g. http://metodososcaruis.blogspot.com/)"
   ]
  },
  {
   "cell_type": "markdown",
   "metadata": {},
   "source": [
    "# How do you use it for longitudinal data?\n",
    "\n",
    "Get the Qi of which the first column was eliminated.    \n",
    "This is not an orthogonal matrix anymore."
   ]
  },
  {
   "cell_type": "code",
   "execution_count": 212,
   "metadata": {},
   "outputs": [
    {
     "name": "stdout",
     "output_type": "stream",
     "text": [
      "[[ 0.67082039  0.5         0.2236068 ]\n",
      " [ 0.2236068  -0.5        -0.67082039]\n",
      " [-0.2236068  -0.5         0.67082039]\n",
      " [-0.67082039  0.5        -0.2236068 ]]\n"
     ]
    }
   ],
   "source": [
    "Qi = Q[:,1:]\n",
    "Qit = np.transpose(Qi)\n",
    "print(Q1)"
   ]
  },
  {
   "cell_type": "code",
   "execution_count": 213,
   "metadata": {},
   "outputs": [
    {
     "data": {
      "text/plain": [
       "array([[ 1.00000000e+00,  0.00000000e+00, -1.53429048e-17],\n",
       "       [ 0.00000000e+00,  1.00000000e+00,  8.32667268e-17],\n",
       "       [-1.53429048e-17,  8.32667268e-17,  1.00000000e+00]])"
      ]
     },
     "execution_count": 213,
     "metadata": {},
     "output_type": "execute_result"
    }
   ],
   "source": [
    "np.matmul(Qit, Qi)"
   ]
  },
  {
   "cell_type": "code",
   "execution_count": 214,
   "metadata": {},
   "outputs": [
    {
     "data": {
      "text/plain": [
       "array([[ 0.75, -0.25, -0.25, -0.25],\n",
       "       [-0.25,  0.75, -0.25, -0.25],\n",
       "       [-0.25, -0.25,  0.75, -0.25],\n",
       "       [-0.25, -0.25, -0.25,  0.75]])"
      ]
     },
     "execution_count": 214,
     "metadata": {},
     "output_type": "execute_result"
    }
   ],
   "source": [
    "np.matmul(Qi, Qit)"
   ]
  },
  {
   "cell_type": "markdown",
   "metadata": {},
   "source": [
    "See what happens to constant vector multiply with $Qi^T$"
   ]
  },
  {
   "cell_type": "code",
   "execution_count": 206,
   "metadata": {},
   "outputs": [
    {
     "data": {
      "text/plain": [
       "array([-1.11022302e-16, -1.66533454e-16,  5.55111512e-17])"
      ]
     },
     "execution_count": 206,
     "metadata": {},
     "output_type": "execute_result"
    }
   ],
   "source": [
    "constant = np.array([1,1,1,1])\n",
    "constant = np.transpose(female)\n",
    "np.matmul(Qit, constant)"
   ]
  },
  {
   "cell_type": "markdown",
   "metadata": {},
   "source": [
    "**I still don't know why** but this $Qi^T$ transfers constant vactor to $O$    \n",
    "\n",
    "\n",
    "Now, for example, consider we are going to evaluate the association between decline in calculation speed and SNP_A after 65 years old    \n",
    "Our model is, \n",
    "$$ Y = \\beta_0 + \\beta_1 x_{sex} + \\beta_2 x_{education} + \\beta_3 x_{SNP} + \\beta_4 x_{age-65} + \\beta_5 x_{SNP} * x_{age-65}$$\n",
    "\n",
    "$$ (Yi = Xi\\beta) $$\n",
    "\n",
    "We will think about $i$th subject who was observed at age 65, 66, 67 and 70    \n",
    "The observed design matrix is;"
   ]
  },
  {
   "cell_type": "code",
   "execution_count": 207,
   "metadata": {},
   "outputs": [],
   "source": [
    "Xi = np.array([[1, 1, 17, 2, 0, 0],\n",
    "               [1, 1, 17, 2, 1, 2],\n",
    "               [1, 1, 17, 2, 2, 4],\n",
    "               [1, 1, 17, 2, 5, 10]])"
   ]
  },
  {
   "cell_type": "markdown",
   "metadata": {},
   "source": [
    "We are interested in the $\\beta$ of interaction term ($\\beta_5$)    \n",
    "Multiply the above equation by $Qi^T$\n",
    "$$ Qi^T Yi = Qi^T Xi\\beta $$\n",
    "Let's call the above as an equation in the transformed space.    \n",
    "the results of $Qi^T Xi$ is;"
   ]
  },
  {
   "cell_type": "code",
   "execution_count": 208,
   "metadata": {},
   "outputs": [
    {
     "data": {
      "text/plain": [
       "array([[-0.   , -0.   , -0.   , -0.   , -3.578, -7.155],\n",
       "       [-0.   , -0.   , -0.   , -0.   ,  1.   ,  2.   ],\n",
       "       [ 0.   ,  0.   ,  0.   ,  0.   , -0.447, -0.894]])"
      ]
     },
     "execution_count": 208,
     "metadata": {},
     "output_type": "execute_result"
    }
   ],
   "source": [
    "transXi=np.matmul(Qit, Xi)\n",
    "np.around(transXi, 3)"
   ]
  },
  {
   "cell_type": "markdown",
   "metadata": {},
   "source": [
    "So it is apparent that in the transformed spcae, intercept, $x_{sex}$, $x_{education}$, $x_{SNP}$ are all 0s.    \n",
    "But we can still estimate $\\beta_4$ and $\\beta_5$.    \n",
    "In other words, all the cross-sectional features are omitted in this space and we don't need to think about it anymore.    \n",
    "This is particularly helpful when we are not sure about cross-sectional fetures affecting an outcome.    \n",
    "\n",
    "The above example just illustrated the $i$th subject.      \n",
    "For data analysis, we will transfer each subjects observations with their own Qi and then solve using an ordinary linear mixed model algorithm because error within subject are thought to be correlated. Note that intercept term is not needed anymore in that linear mixed model. \n",
    "We do the same thing for all the subject--calculate $Qi$ for each subject and transform the observations. \n",
    "This is a **conditional linear regression model**    \n"
   ]
  },
  {
   "cell_type": "markdown",
   "metadata": {},
   "source": [
    "# Appendix\n",
    "\n",
    "poly function to get $Q_i$     \n",
    "\n",
    "(equivalent to R's poly function; https://stackoverflow.com/questions/41317127/python-equivalent-to-r-poly-function)"
   ]
  },
  {
   "cell_type": "code",
   "execution_count": 215,
   "metadata": {},
   "outputs": [],
   "source": [
    "def poly(x, p):\n",
    "    x = np.array(x)\n",
    "    X = np.transpose(np.vstack((x**k for k in range(p+1))))\n",
    "    return np.linalg.qr(X)[0][:,1:]"
   ]
  },
  {
   "cell_type": "code",
   "execution_count": 216,
   "metadata": {},
   "outputs": [
    {
     "data": {
      "text/plain": [
       "array([[ 0.67082039,  0.5       ,  0.2236068 ],\n",
       "       [ 0.2236068 , -0.5       , -0.67082039],\n",
       "       [-0.2236068 , -0.5       ,  0.67082039],\n",
       "       [-0.67082039,  0.5       , -0.2236068 ]])"
      ]
     },
     "execution_count": 216,
     "metadata": {},
     "output_type": "execute_result"
    }
   ],
   "source": [
    "poly([1,2,3,4],3)"
   ]
  },
  {
   "attachments": {},
   "cell_type": "markdown",
   "metadata": {},
   "source": [
    "# Reference\n",
    "R code from    \n",
    "\n",
    "Eur J Hum Genet. 2015 Oct; 23(10): 1384–1391.    \n",
    "Published online 2015 Feb 25. doi:  10.1038/ejhg.2015.1    \n",
    "PMCID: PMC4592098    \n",
    "PMID: 25712081    \n",
    "GWAS with longitudinal phenotypes: performance of approximate procedures    \n",
    "Karolina Sikorska,1,2 Nahid Mostafavi Montazeri,1,3 André Uitterlinden,2 Fernando Rivadeneira,2 Paul HC Eilers,1 and Emmanuel Lesaffre1,4,*\n",
    "https://www.ncbi.nlm.nih.gov/pmc/articles/PMC4592098/\n",
    "\n",
    "\n",
    "\n",
    "            id\ty\tTime\n",
    "            1\t1.12\t1\n",
    "            1\t1.14\t2\n",
    "            1\t1.16\t3\n",
    "            1\t1.2\t4\n",
    "            1\t1.26\t5\n",
    "            2\t0.95\t1\n",
    "            2\t0.83\t2\n",
    "            2\t0.65\t3\n",
    "            2\t0.49\t4\n",
    "            2\t0.34\t5\n",
    "\n",
    "    cond = function(data, vars) {\n",
    "    data = data[order(data$id), ]\n",
    "    ### delete missing observations\n",
    "    data1 = data[!is.na(data$y), ]\n",
    "    ## do the transformations\n",
    "    ids = unique(data1$id)\n",
    "    transdata = NULL\n",
    "    for(i in ids) {\n",
    "    xi = data1[data1$id == i, vars]\n",
    "    xi = as.matrix(xi)\n",
    "    if(nrow(xi) > 1) {\n",
    "    A = cumsum(rep(1, nrow(xi)))\n",
    "    A1 = poly(A, degree = length(A)-1)\n",
    "    transxi = t(A1) %*% xi\n",
    "    transxi = cbind(i, transxi)\n",
    "    transdata = rbind(transdata, transxi)\n",
    "        }\n",
    "    }\n",
    "    transdata = as.data.frame(transdata)\n",
    "    names(transdata) = c(\"id\", vars)\n",
    "    row.names(transdata) = 1:nrow(transdata)\n",
    "    return(transdata)\n",
    "    }\n",
    "\n",
    "    trdata = cond(mydata, vars = c(\"Time\", \"y\"))\n",
    "    #fit the reduced model and extract random slopes\n",
    "    mod2 = lmer(y ˜ Time - 1 + (Time-1|id), data = trdata)"
   ]
  }
 ],
 "metadata": {
  "kernelspec": {
   "display_name": "Python 3",
   "language": "python",
   "name": "python3"
  },
  "language_info": {
   "codemirror_mode": {
    "name": "ipython",
    "version": 3
   },
   "file_extension": ".py",
   "mimetype": "text/x-python",
   "name": "python",
   "nbconvert_exporter": "python",
   "pygments_lexer": "ipython3",
   "version": "3.5.5"
  }
 },
 "nbformat": 4,
 "nbformat_minor": 2
}
