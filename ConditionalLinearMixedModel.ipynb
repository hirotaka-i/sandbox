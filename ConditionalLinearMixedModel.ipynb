{
 "cells": [
  {
   "cell_type": "markdown",
   "metadata": {},
   "source": [
    "Created 2018-08-17\n",
    "by Hirotaka Iwaki\n",
    "\n",
    "Intuitaion: paired t-test uses the difference between BEFORE and AFTER to detect the effect of intervention. All baseline characteristics doesn't matter unless it doesn't change during the period and doesn't have any interaction with the intervention. Conditional linear mmodel is sort of expansion of this concept to repeated observations."
   ]
  },
  {
   "cell_type": "markdown",
   "metadata": {},
   "source": [
    "# Problem setting\n",
    "* 4 observations.\n",
    "* x = 1, 2, 3, 4\n",
    "* Y = 9, 13, 32, 41\n",
    "$$Y = \\beta_0 x^0 + \\beta_1 x^1 + \\beta_2 x^2 + \\beta_3 x^3$$"
   ]
  },
  {
   "cell_type": "markdown",
   "metadata": {},
   "source": [
    "# Estimating betas\n",
    "\n",
    "    x = 1 -> [1, 1, 1, 1]    \n",
    "    x = 2 -> [1, 2, 4, 8]    \n",
    "    x = 3 -> [1, 3, 9,27]    \n",
    "    x = 4 -> [1, 4,16,64]    \n",
    "\n",
    "$\\beta=[\\beta_0,\\beta_1,\\beta_2,\\beta_3]^T$\n",
    "\n",
    "$$Y = X\\beta + \\epsilon$$\n",
    "\n",
    "Usually we use *normal equation* to solve this.\n",
    "\n",
    "$$X^T Y =X^T X\\beta$$\n",
    "\n",
    "Because $X^T X$ is usually invertable\n",
    "$$(X^T X)^{-1}X^T Y =(X^T X)^{-1}X^T X\\beta$$\n",
    "\n",
    "So,\n",
    "$$\\beta=(X^T X)^{-1}X^T Y$$\n",
    "\n",
    "Now let's make design matrix in python"
   ]
  },
  {
   "cell_type": "code",
   "execution_count": 2,
   "metadata": {},
   "outputs": [
    {
     "name": "stdout",
     "output_type": "stream",
     "text": [
      "[[ 1  1  1  1]\n",
      " [ 1  2  4  8]\n",
      " [ 1  3  9 27]\n",
      " [ 1  4 16 64]]\n"
     ]
    }
   ],
   "source": [
    "import numpy as np\n",
    "x= np.array([1,2,3,4])\n",
    "Xt = np.vstack((x**k for k in range(4)))\n",
    "X = np.transpose(Xt)\n",
    "print(X)"
   ]
  },
  {
   "cell_type": "markdown",
   "metadata": {},
   "source": [
    "# QR decomposition\n",
    "\n",
    "QR decompostion is to solve the normal eqution without calclulating an inverse matrix\n",
    "\n",
    "Any $m\\ \\times\\ n$ matrix can be decomposed to a $m\\ \\times\\ m$ orthogonal matrix and a $m\\ \\times\\ n$ upper triangular \n",
    "\n",
    "$$X=QR$$\n",
    "\n",
    "Orthogonal means, \n",
    "$$Q^T Q= Q Q^{T} = I$$\n",
    "\n",
    "so \n",
    "$$Q^T =Q^{-1}$$\n"
   ]
  },
  {
   "cell_type": "code",
   "execution_count": 4,
   "metadata": {},
   "outputs": [
    {
     "name": "stdout",
     "output_type": "stream",
     "text": [
      "[[-0.5         0.67082039  0.5         0.2236068 ]\n",
      " [-0.5         0.2236068  -0.5        -0.67082039]\n",
      " [-0.5        -0.2236068  -0.5         0.67082039]\n",
      " [-0.5        -0.67082039  0.5        -0.2236068 ]]\n"
     ]
    }
   ],
   "source": [
    "Q,R = np.linalg.qr(X)\n",
    "print (Q)"
   ]
  },
  {
   "cell_type": "code",
   "execution_count": 5,
   "metadata": {},
   "outputs": [
    {
     "name": "stdout",
     "output_type": "stream",
     "text": [
      "[[ -2.          -5.         -15.         -50.        ]\n",
      " [  0.          -2.23606798 -11.18033989 -46.51021393]\n",
      " [  0.           0.           2.          15.        ]\n",
      " [  0.           0.           0.          -1.34164079]]\n"
     ]
    }
   ],
   "source": [
    "print(R)"
   ]
  },
  {
   "cell_type": "code",
   "execution_count": 6,
   "metadata": {},
   "outputs": [
    {
     "data": {
      "text/plain": [
       "array([[ 1.,  1.,  1.,  1.],\n",
       "       [ 1.,  2.,  4.,  8.],\n",
       "       [ 1.,  3.,  9., 27.],\n",
       "       [ 1.,  4., 16., 64.]])"
      ]
     },
     "execution_count": 6,
     "metadata": {},
     "output_type": "execute_result"
    }
   ],
   "source": [
    "np.matmul(Q,R)"
   ]
  },
  {
   "cell_type": "code",
   "execution_count": 7,
   "metadata": {},
   "outputs": [
    {
     "data": {
      "text/plain": [
       "array([[ 1.00000000e+00, -2.05343406e-17,  8.62196630e-17,\n",
       "        -5.55111512e-17],\n",
       "       [-2.05343406e-17,  1.00000000e+00,  0.00000000e+00,\n",
       "        -1.39367340e-17],\n",
       "       [ 8.62196630e-17,  0.00000000e+00,  1.00000000e+00,\n",
       "         8.70292897e-17],\n",
       "       [-5.55111512e-17, -1.39367340e-17,  8.70292897e-17,\n",
       "         1.00000000e+00]])"
      ]
     },
     "execution_count": 7,
     "metadata": {},
     "output_type": "execute_result"
    }
   ],
   "source": [
    "Qt = np.transpose(Q)\n",
    "np.matmul(Q, Qt)"
   ]
  },
  {
   "cell_type": "code",
   "execution_count": 8,
   "metadata": {},
   "outputs": [
    {
     "data": {
      "text/plain": [
       "array([[ 1.0000000e+00, -2.0534340e-17,  8.6219662e-17, -5.5511151e-17],\n",
       "       [-2.0534340e-17,  1.0000000e+00,  0.0000000e+00, -1.3936734e-17],\n",
       "       [ 8.6219662e-17,  0.0000000e+00,  1.0000000e+00,  8.7029287e-17],\n",
       "       [-5.5511151e-17, -1.3936734e-17,  8.7029287e-17,  1.0000000e+00]],\n",
       "      dtype=float32)"
      ]
     },
     "execution_count": 8,
     "metadata": {},
     "output_type": "execute_result"
    }
   ],
   "source": [
    "np.matmul(Q, Qt).astype('float32')"
   ]
  },
  {
   "cell_type": "code",
   "execution_count": 9,
   "metadata": {},
   "outputs": [
    {
     "data": {
      "text/plain": [
       "-0.9999999999999999"
      ]
     },
     "execution_count": 9,
     "metadata": {},
     "output_type": "execute_result"
    }
   ],
   "source": [
    "np.linalg.det(Q)"
   ]
  },
  {
   "cell_type": "markdown",
   "metadata": {},
   "source": [
    "# Solve the problem without using inverse matrix\n",
    "\n",
    "Normal equation\n",
    "$$X^T Y =X^T X\\beta$$\n",
    "\n",
    "can be converted as follows.    \n",
    "\n",
    "$X$ to $QR$\n",
    "$$(QR)^T Y = (QR)^T QR \\beta$$\n",
    "\n",
    "Remove parentheses\n",
    "$$R^T Q^T Y = R^T Q^T Q R \\beta$$\n",
    "\n",
    "As $Q^T Q$ is $I$,\n",
    "$$R^T Q^T Y = R^T R \\beta$$\n",
    "\n",
    "Now $R^T$ is a triangular so it has $(R^T)^{-1}$\n",
    "$$(R^T)^{-1} R^T Q^T Y = (R^T)^{-1} R^T R \\beta$$\n",
    "\n",
    "Finally,\n",
    "$$Q^T Y = R\\beta$$\n",
    "\n",
    "$R$ is an upper triangular matrix, so we can calculate $\\beta$s one by one from the bottom raw.    \n",
    "\n",
    "(ref.https://en.wikipedia.org/wiki/QR_decomposition, http://metodososcaruis.blogspot.com/)"
   ]
  },
  {
   "cell_type": "markdown",
   "metadata": {},
   "source": [
    "# How do we use it for longitudinal data?\n",
    "\n",
    "Get the $Qi$ of which the first column of $Q$ is omitted.    \n",
    "$Qi$ is not an orthogonal matrix anymore."
   ]
  },
  {
   "cell_type": "code",
   "execution_count": 10,
   "metadata": {},
   "outputs": [
    {
     "name": "stdout",
     "output_type": "stream",
     "text": [
      "[[ 0.67082039  0.5         0.2236068 ]\n",
      " [ 0.2236068  -0.5        -0.67082039]\n",
      " [-0.2236068  -0.5         0.67082039]\n",
      " [-0.67082039  0.5        -0.2236068 ]]\n"
     ]
    }
   ],
   "source": [
    "Qi = Q[:,1:]\n",
    "Qit = np.transpose(Qi)\n",
    "print(Qi)"
   ]
  },
  {
   "cell_type": "code",
   "execution_count": 11,
   "metadata": {},
   "outputs": [
    {
     "data": {
      "text/plain": [
       "array([[ 1.00000000e+00,  0.00000000e+00, -1.53429048e-17],\n",
       "       [ 0.00000000e+00,  1.00000000e+00,  8.32667268e-17],\n",
       "       [-1.53429048e-17,  8.32667268e-17,  1.00000000e+00]])"
      ]
     },
     "execution_count": 11,
     "metadata": {},
     "output_type": "execute_result"
    }
   ],
   "source": [
    "np.matmul(Qit, Qi)"
   ]
  },
  {
   "cell_type": "code",
   "execution_count": 12,
   "metadata": {},
   "outputs": [
    {
     "data": {
      "text/plain": [
       "array([[ 0.75, -0.25, -0.25, -0.25],\n",
       "       [-0.25,  0.75, -0.25, -0.25],\n",
       "       [-0.25, -0.25,  0.75, -0.25],\n",
       "       [-0.25, -0.25, -0.25,  0.75]])"
      ]
     },
     "execution_count": 12,
     "metadata": {},
     "output_type": "execute_result"
    }
   ],
   "source": [
    "np.matmul(Qi, Qit)"
   ]
  },
  {
   "cell_type": "markdown",
   "metadata": {},
   "source": [
    "Let's see what happens to a vector ($\\in R^4$) with a constant number, if multiplied by $Qi^T$"
   ]
  },
  {
   "cell_type": "code",
   "execution_count": 13,
   "metadata": {},
   "outputs": [
    {
     "data": {
      "text/plain": [
       "array([-1.11022302e-16, -1.66533454e-16,  5.55111512e-17])"
      ]
     },
     "execution_count": 13,
     "metadata": {},
     "output_type": "execute_result"
    }
   ],
   "source": [
    "constant = np.array([1,1,1,1])\n",
    "constant_t = np.transpose(constant)\n",
    "np.matmul(Qit, constant_t)"
   ]
  },
  {
   "cell_type": "markdown",
   "metadata": {},
   "source": [
    "This $Qi^T$ transfers constant vactor to $O\\ (\\in R^3)$    \n",
    "\n",
    "(Side note: The first column of X is intercept $[1,1,1.1]^T$. Thus, the first column vector of Q are the one with the same number, like $[0.5, 0.5, 0.5, 0.5]^T$. The other column vectors are orthogonal to the first vector, which will transfer the data to a unique space of $ R^{4-1}$. More generally, think that $i$ th subject has $m$ repeated observations. Polynomial matrix is just a mean to get a $m \\times m$ full rank matrix which has the first column vector  with all ones($\\in R^m$). QR decomposition is a way to obtain $Qi$, which is a $m \\times (m-1)$ matrix column vectors orthogonal to that vector.)\n",
    "     \n",
    "     \n",
    "     .\n",
    "     .\n",
    "Now, consider we are going to evaluate the association between a SNP and the decline in some test score $Y$ after 65 years old    \n",
    "Our model is, \n",
    "$$ Y = \\beta_0 + \\beta_1 x_{sex} + \\beta_2 x_{education} + \\beta_3 x_{SNP} + \\beta_4 x_{age-65} + \\beta_5 x_{SNP} * x_{age-65}$$\n",
    "\n",
    "$$ (Yi = Xi\\beta) $$\n",
    "\n",
    "We will think about $i$ th subject who was observed at age 65, 66, 67 and 70    \n",
    "The observed design matrix is;"
   ]
  },
  {
   "cell_type": "code",
   "execution_count": 12,
   "metadata": {},
   "outputs": [],
   "source": [
    "Xi = np.array([[1, 1, 17, 2, 0, 0],\n",
    "               [1, 1, 17, 2, 1, 2],\n",
    "               [1, 1, 17, 2, 2, 4],\n",
    "               [1, 1, 17, 2, 5, 10]])"
   ]
  },
  {
   "cell_type": "markdown",
   "metadata": {},
   "source": [
    "We are interested in the $\\beta$ of interaction term ($\\beta_5$)    \n",
    "\n",
    "Multiply the above equation with $Qi^T$\n",
    "\n",
    "$$ Qi^T Yi = Qi^T Xi\\beta $$\n",
    "\n",
    "Let's call the above as \"equation in the transformed space\"\n",
    ".    \n",
    "the results of $Qi^T Xi$ is;"
   ]
  },
  {
   "cell_type": "code",
   "execution_count": 13,
   "metadata": {},
   "outputs": [
    {
     "data": {
      "text/plain": [
       "array([[-0.   , -0.   , -0.   , -0.   , -3.578, -7.155],\n",
       "       [-0.   , -0.   , -0.   , -0.   ,  1.   ,  2.   ],\n",
       "       [ 0.   ,  0.   ,  0.   ,  0.   , -0.447, -0.894]])"
      ]
     },
     "execution_count": 13,
     "metadata": {},
     "output_type": "execute_result"
    }
   ],
   "source": [
    "transXi=np.matmul(Qit, Xi)\n",
    "np.around(transXi, 3)"
   ]
  },
  {
   "cell_type": "markdown",
   "metadata": {},
   "source": [
    "So it is apparent that in the transformed spcae, intercept, $x_{sex}$, $x_{education}$, $x_{SNP}$ are all 0s.\n",
    "\n",
    "Because they don't have any information, we cannot estimate $\\beta_{0-3}$.    \n",
    "But we can still estimate $\\beta_4$ and $\\beta_5$.    \n",
    "\n",
    "In other words, all the cross-sectional features are omitted in this space and we don't need to think about it anymore.    \n",
    "This is particularly helpful when we are not sure about cross-sectional fetures affecting an outcome.     \n",
    "(we are free from worrring about whether baseline scores, number of kids or any other factors should be included in the model or not.)    \n",
    "The down side is that the number of observations are reduced by 1 (as 4 -> 3)\n",
    "\n",
    "The above example is just illustrating the $i$ th subject (with 4 observations).      \n",
    "For whole data analysis, we will transfer observations of each subject with their own $Qi^T$ and stack them together. Then we can apply an algorithm for linear mixed model only with time varying covariates. \n",
    "\n",
    "But how about the correlation within individual? Linear mixed models of $i$ th subject is written as;\n",
    "\n",
    "$$Yi = Xi\\beta + Zb_i + \\epsilon$$\n",
    "\n",
    "When we multiply the equation by $Qi^T$\n",
    "\n",
    "$$Qi^TYi = Qi^TXi\\beta + Qi^TZb_i + \\epsilon'$$\n",
    "\n",
    "Not only time-fixed covariates in X but also time-fixed random effect (a column vector of *Z* with all ones) will be dispeared in the new space. \n",
    "\n",
    "**Conditional linear model**    \n",
    "In many cases, we only add a random intercept in linear mixed model. This is $Z$ with all 1. so the transferred data shouldn't have correlation within individuals any more. It is a linear regression problem.    \n",
    "\n",
    "**Conditional linear mixed model**    \n",
    "If we care about, time-varying random effects, such as a random slope (the hypothesis is that the rate of change can also vary among individuals) then we will apply linear mixed model.\n",
    "\n",
    "(Noe: in both models, we should clarify the algorithm that we don't need intercept. This can be done in R as: lmer(Y~a+b-1+(c+d-1|subject), data=data))      "
   ]
  },
  {
   "cell_type": "markdown",
   "metadata": {},
   "source": [
    "# Appendix\n",
    "\n",
    "poly function to get $Q_i$     \n",
    "\n",
    "(equivalent to R's poly function; https://stackoverflow.com/questions/41317127/python-equivalent-to-r-poly-function)"
   ]
  },
  {
   "cell_type": "code",
   "execution_count": 14,
   "metadata": {},
   "outputs": [],
   "source": [
    "def poly(x, p):\n",
    "    x = np.array(x)\n",
    "    X = np.transpose(np.vstack((x**k for k in range(p+1))))\n",
    "    return np.linalg.qr(X)[0][:,1:]"
   ]
  },
  {
   "cell_type": "code",
   "execution_count": 16,
   "metadata": {},
   "outputs": [
    {
     "data": {
      "text/plain": [
       "array([[ 0.67082039,  0.5       ,  0.2236068 ],\n",
       "       [ 0.2236068 , -0.5       , -0.67082039],\n",
       "       [-0.2236068 , -0.5       ,  0.67082039],\n",
       "       [-0.67082039,  0.5       , -0.2236068 ]])"
      ]
     },
     "execution_count": 16,
     "metadata": {},
     "output_type": "execute_result"
    }
   ],
   "source": [
    "poly([1,2,3,4],3)"
   ]
  },
  {
   "cell_type": "markdown",
   "metadata": {},
   "source": [
    "There are many ways to obtain Qi. For example, "
   ]
  },
  {
   "cell_type": "code",
   "execution_count": 23,
   "metadata": {},
   "outputs": [
    {
     "data": {
      "text/plain": [
       "array([[-0.48112522,  0.48324967, -0.53384293],\n",
       "       [-0.35282516,  0.00507349,  0.79087841],\n",
       "       [ 0.03207501, -0.81302635, -0.2965794 ],\n",
       "       [ 0.80187537,  0.32470319,  0.03954392]])"
      ]
     },
     "execution_count": 23,
     "metadata": {},
     "output_type": "execute_result"
    }
   ],
   "source": [
    "Q2i = poly([1,2,5,11],3)\n",
    "Q2i"
   ]
  },
  {
   "cell_type": "code",
   "execution_count": 24,
   "metadata": {},
   "outputs": [
    {
     "data": {
      "text/plain": [
       "array([[ 0.  ,  0.  ,  0.  ,  0.  ,  3.72,  7.44],\n",
       "       [-0.  , -0.  , -0.  , -0.  ,  0.  ,  0.01],\n",
       "       [ 0.  ,  0.  ,  0.  ,  0.  ,  0.4 ,  0.79]])"
      ]
     },
     "execution_count": 24,
     "metadata": {},
     "output_type": "execute_result"
    }
   ],
   "source": [
    "Q2it = np.transpose(Q2i)\n",
    "transXi2=np.matmul(Q2it, Xi)\n",
    "np.around(transXi2, 2)"
   ]
  },
  {
   "cell_type": "markdown",
   "metadata": {},
   "source": [
    "Confirm the similar result with different $Qi$ ($Q2i$). $\\beta_4$ and $\\beta_5$ estimates would be the same. "
   ]
  },
  {
   "cell_type": "markdown",
   "metadata": {},
   "source": [
    "# Reference\n",
    "\n",
    "\n",
    "The American Statistician Vol. 55, No. 1, Feb., 2001    \n",
    "Conditional Linear Mixed Models    \n",
    "Geert Verbeke, Bart Spiessens and Emmanuel Lesaffre    \n",
    "Vol. 55, No. 1 (Feb., 2001), pp. 25-34    \n",
    "https://www.jstor.org/stable/2685526\n",
    "\n",
    "\n",
    "Eur J Hum Genet. 2015 Oct; 23(10): 1384–1391.    \n",
    "Published online 2015 Feb 25. doi:  10.1038/ejhg.2015.1    \n",
    "PMCID: PMC4592098    \n",
    "PMID: 25712081    \n",
    "GWAS with longitudinal phenotypes: performance of approximate procedures    \n",
    "Karolina Sikorska,1,2 Nahid Mostafavi Montazeri,1,3 André Uitterlinden,2 Fernando Rivadeneira,2 Paul HC Eilers,1 and Emmanuel Lesaffre1,4,*\n",
    "https://www.ncbi.nlm.nih.gov/pmc/articles/PMC4592098/\n",
    "\n",
    "example R code from the above article.\n",
    "\n",
    "\n",
    "            id\ty\tTime\n",
    "            1\t1.12\t1\n",
    "            1\t1.14\t2\n",
    "            1\t1.16\t3\n",
    "            1\t1.2\t4\n",
    "            1\t1.26\t5\n",
    "            2\t0.95\t1\n",
    "            2\t0.83\t2\n",
    "            2\t0.65\t3\n",
    "            2\t0.49\t4\n",
    "            2\t0.34\t5\n",
    "\n",
    "    cond = function(data, vars) {\n",
    "    data = data[order(data$id), ]\n",
    "    ### delete missing observations\n",
    "    data1 = data[!is.na(data$y), ]\n",
    "    ## do the transformations\n",
    "    ids = unique(data1$id)\n",
    "    transdata = NULL\n",
    "    for(i in ids) {\n",
    "    xi = data1[data1$id == i, vars]\n",
    "    xi = as.matrix(xi)\n",
    "    if(nrow(xi) > 1) {\n",
    "    A = cumsum(rep(1, nrow(xi)))\n",
    "    A1 = poly(A, degree = length(A)-1)\n",
    "    transxi = t(A1) %*% xi\n",
    "    transxi = cbind(i, transxi)\n",
    "    transdata = rbind(transdata, transxi)\n",
    "        }\n",
    "    }\n",
    "    transdata = as.data.frame(transdata)\n",
    "    names(transdata) = c(\"id\", vars)\n",
    "    row.names(transdata) = 1:nrow(transdata)\n",
    "    return(transdata)\n",
    "    }\n",
    "\n",
    "    trdata = cond(mydata, vars = c(\"Time\", \"y\"))\n",
    "    #fit the reduced model and extract random slopes\n",
    "    mod2 = lmer(y ˜ Time - 1 + (Time-1|id), data = trdata)"
   ]
  }
 ],
 "metadata": {
  "kernelspec": {
   "display_name": "Python 3",
   "language": "python",
   "name": "python3"
  },
  "language_info": {
   "codemirror_mode": {
    "name": "ipython",
    "version": 3
   },
   "file_extension": ".py",
   "mimetype": "text/x-python",
   "name": "python",
   "nbconvert_exporter": "python",
   "pygments_lexer": "ipython3",
   "version": "3.5.5"
  }
 },
 "nbformat": 4,
 "nbformat_minor": 2
}
