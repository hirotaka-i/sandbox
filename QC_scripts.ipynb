{
 "cells": [
  {
   "cell_type": "markdown",
   "metadata": {},
   "source": [
    "# General QC process\n",
    "\n",
    "From S4 study\n",
    "\n",
    "## Steps\n",
    "1. Converting report to plink binary\n",
    "2. Genotyping quality check (Keep GenTrain Score > 0.7)\n",
    "3. Sample call rate check (Keep F_MISS < 0.5)\n",
    "4. Sex check\n",
    "5. Keep SNP with maf>0.05, missing call rate <0.05 and HWD > 1e-6\n",
    "6. Extreme heterozygosity (Keep within +/- 3 SD)\n",
    "7. Ancestry filtering (Keep Europeans)\n",
    "8. Filtering out related individuals (Keep <0.125)\n",
    "\n",
    "\n",
    "### 1. Convert report to plink binary\n",
    "Create .map, .lgne, and .fam and create plink binary file"
   ]
  },
  {
   "cell_type": "code",
   "execution_count": null,
   "metadata": {},
   "outputs": [],
   "source": [
    "%%bash\n",
    "awk 'BEGIN{OFS=\"\\t\"}NR>1{print $3,$2,\"0\",$4}' genotyped/SNP_Map.txt > cleaning/RawData.map\n",
    "awk 'BEGIN{OFS=\"\\t\"}NR>10{print $1,$1,$2,$3,$4}' genotyped/P100318_Kuldip_S4_092418_FinalReport.txt > cleaning/RawData.lgen\n",
    "awk 'BEGIN{OFS=\"\\t\"}NR>1{print $2,$2,\"0\",\"0\",$3,\"-9\"}' genotyped/Sample_Map.txt | sed -e 's/Female/2/g' -e 's/Male/1/g' > cleaning/RawData.fam\n",
    "module load plink\n",
    "plink --noweb --lfile cleaning/RawData --missing-genotype - --make-bed --out cleaning/RawData_Binary"
   ]
  },
  {
   "cell_type": "markdown",
   "metadata": {},
   "source": [
    "### 2. Genotyping quality check\n",
    "Get the list of loci to exclude by GenTrain < 0.7 and exclude them"
   ]
  },
  {
   "cell_type": "code",
   "execution_count": null,
   "metadata": {},
   "outputs": [],
   "source": [
    "%%bash\n",
    "awk 'BEGIN{OFS=\"\\t\"}NR>1 && $5<0.7{print $2,$5}' genotyped/SNP_Map.txt > cleaning/LowGenTrainSnpsToExclude.txt\n",
    "module load plink\n",
    "plink --noweb --bfile cleaning/RawData_Binary --exclude cleaning/LowGenTrainSnpsToExclude.txt --make-bed --out cleaning/Gc070_Consented"
   ]
  },
  {
   "cell_type": "markdown",
   "metadata": {},
   "source": [
    "### 3. Sample call rate check\n",
    "Create .imiss file, get the list of Individuals with low call rate (F_MISS > 0.5), and exclude these individuals."
   ]
  },
  {
   "cell_type": "code",
   "execution_count": null,
   "metadata": {},
   "outputs": [],
   "source": [
    "%%bash\n",
    "module load plink\n",
    "plink --noweb --bfile cleaning/Gc070_Consented --missing --out cleaning/chip_MISSINGNESS\n",
    "awk '$6>0.05{print}' cleaning/chip_MISSINGNESS.imiss > cleaning/LowCallSamplesToRemove.txt\n",
    "plink --noweb --bfile cleaning/Gc070_Consented --remove cleaning/LowCallSamplesToRemove.txt --make-bed --out cleaning/CallRate95"
   ]
  },
  {
   "cell_type": "markdown",
   "metadata": {},
   "source": [
    "### 4. Sex check & 5. Filtering SNP (by maf>0.05, missing call rate >0.05 and  HWD > 1e-6)\n",
    ".sexcheck file will be created and analyzed. Individuals with failing sex check will be removed.    \n",
    "(NeuroX doens't have GWAS back bones, use F cut-off of 0.5 insterad of conventional 0.25/0.75)\n"
   ]
  },
  {
   "cell_type": "code",
   "execution_count": null,
   "metadata": {
    "scrolled": true
   },
   "outputs": [],
   "source": [
    "%%bash\n",
    "module load plink\n",
    "plink --noweb --bfile cleaning/CallRate95 --check-sex --maf 0.1 --geno 0.05 --out cleaning/CallRate95-SEXCHECK\n",
    "echo '\n",
    "data <- read.table(\"cleaning/CallRate95-SEXCHECK.sexcheck\",header = T, \n",
    "    colClasses=c(\"character\", \"character\", \"numeric\", \"factor\", \"character\", \"numeric\"))\n",
    "data$PEDSEX_STATUS <- paste(data$PEDSEX,data$STATUS,sep = \"_\")\n",
    "data$PEDSEX_STATUS = as.factor(data$PEDSEX_STATUS)\n",
    "summary(data)\n",
    "library(ggplot2)\n",
    "plot.temp <- ggplot(data,aes(x = F, colour = PEDSEX_STATUS, group = PEDSEX_STATUS))\n",
    "plot.sex <- plot.temp + geom_density(fill = NA)\n",
    "ggsave(\"cleaning/SexCheck.jpeg\", width = 8, height = 3, units = \"in\")\n",
    "data$TrueFailMale <- ifelse(data$PEDSEX_STATUS == \"1_PROBLEM\" & data$F < 0.50,1,0)\n",
    "data$TrueFailFemale <- ifelse(data$PEDSEX_STATUS == \"2_PROBLEM\" & data$F > 0.50,1,0)\n",
    "dat <- subset(data, TrueFailMale == 1 | TrueFailFemale == 1)\n",
    "write.table(paste(dat$FID, dat$IID, sep = \" \"),\"cleaning/SexCheckFailedSamplesToRemove.txt\",quote = F,col.names= F,row.names = F)\n",
    "' > cleaning/SexCheck.R\n",
    "module load R\n",
    "Rscript --vanilla cleaning/SexCheck.R\n",
    "plink --noweb --bfile cleaning/CallRate95 --remove cleaning/SexCheckFailedSamplesToRemove.txt\\\n",
    " --geno 0.05 --maf 0.05 --hwe 0.000001 --make-bed --out cleaning/Gc070geno05maf05hwe6_ConsentedCallRate95SexConcordant"
   ]
  },
  {
   "cell_type": "markdown",
   "metadata": {},
   "source": [
    "SexCheck.jpeg![image.png](fig/SexCheck.jpeg)\n",
    "1_: Male\n",
    "2_: Female"
   ]
  },
  {
   "cell_type": "markdown",
   "metadata": {},
   "source": [
    "### 6. Check extreme heterozygosity\n",
    "+/-3 SDs: Not meaningfull for this sample size. **Don't use this filter for this study.**"
   ]
  },
  {
   "cell_type": "code",
   "execution_count": null,
   "metadata": {
    "scrolled": false
   },
   "outputs": [],
   "source": [
    "%%bash\n",
    "module load plink\n",
    "plink --noweb --bfile cleaning/Gc070geno05maf05hwe6_ConsentedCallRate95SexConcordant\\\n",
    " --geno 0.01 --maf 0.05 --indep-pairwise 50 5 0.5 --out cleaning/pruningForCheckHet\n",
    "plink --noweb --bfile cleaning/Gc070geno05maf05hwe6_ConsentedCallRate95SexConcordant\\\n",
    " --extract cleaning/pruningForCheckHet.prune.in --het --make-bed --out cleaning/CheckHet\n",
    "echo '\n",
    "data <- read.table(\"cleaning/CheckHet.het\",header = T, \n",
    "    colClasses=c(\"character\", \"character\", \"numeric\", \"numeric\", \"numeric\", \"numeric\"))\n",
    "summary(data)\n",
    "library(ggplot2)\n",
    "plot.temp <- ggplot(data,aes(x = F, ))\n",
    "plot.het <- plot.temp + geom_density(fill = NA)\n",
    "ggsave(\"cleaning/HetCheck.jpeg\", width = 8, height = 3, units = \"in\")\n",
    "LowHet <- mean(data$F) - 3*sd(data$F) # -0.15\n",
    "HiHet <- mean(data$F) + 3*sd(data$F) # 0.15\n",
    "cat(\"mean of F\", mean(data$F), \"\\n\")\n",
    "cat(\"sd of F\", sd(data$F), \"\\n\")\n",
    "data$HetOutlier <- ifelse(data$F < LowHet | data$F > HiHet,1,0)\n",
    "dat <- subset(data, HetOutlier == 1 )\n",
    "cat(\"N of extreme heterogeneity (+/- 3 SD), \", length(dat$FID), \"\\n\")\n",
    "write.table(paste(dat$FID, dat$IID, sep = \" \"),\"cleaning/HetOutliersToRemove.txt\",quote = F,col.names= F,row.names = F)\n",
    "' > cleaning/HetCheck.R\n",
    "module load R\n",
    "Rscript --vanilla cleaning/HetCheck.R\n",
    "# plink --noweb --bfile cleaning/Gc070geno05maf05hwe6_ConsentedCallRate95SexConcordant --remove HetOutliersToRemove.txt\\\n",
    "#  --make-bed --out cleaning/Gc070geno05maf05hwe6_ConsentedCallRate95SexConcordantHetLess3sd\n",
    "plink --noweb --bfile cleaning/Gc070geno05maf05hwe6_ConsentedCallRate95SexConcordant\\\n",
    " --make-bed --out cleaning/Gc070geno05maf05hwe6_ConsentedCallRate95SexConcordantHetLess3sd"
   ]
  },
  {
   "cell_type": "markdown",
   "metadata": {},
   "source": [
    "HetCheck.jpeg![image.png](fig/HetCheck.jpeg)"
   ]
  },
  {
   "cell_type": "markdown",
   "metadata": {},
   "source": [
    "### 7. Ancestry filtering\n",
    "Using hapmap to conduct ancestry check\n",
    "1. Get the list of palindromes (to exclude)\n",
    "2. Prune the data \n",
    "3. merge with hapmap binary\n",
    "4. Create PCs and conduct PCA"
   ]
  },
  {
   "cell_type": "code",
   "execution_count": null,
   "metadata": {},
   "outputs": [],
   "source": [
    "%%bash\n",
    "#1 palindromes\n",
    "echo '\n",
    "library(data.table)\n",
    "data <- fread(\"cleaning/Gc070geno05maf05hwe6_ConsentedCallRate95SexConcordantHetLess3sd.bim\")\n",
    "data$alleles <- paste(data$V5, data$V6, sep = \"_\")\n",
    "dat <- subset(data, alleles == \"A_T\" | alleles == \"T_A\" | alleles == \"G_C\" | alleles == \"C_G\")\n",
    "write.table(dat$V2, \"cleaning/palindromes.txt\", quote = F, row.names = F, col.names = F)\n",
    "cat(\"N of excluded SNPs =\", nrow(dat), \"among\", nrow(data), \"\\n\")\n",
    "' > cleaning/palindromes.R\n",
    "module load R\n",
    "Rscript --vanilla cleaning/palindromes.R"
   ]
  },
  {
   "cell_type": "code",
   "execution_count": null,
   "metadata": {},
   "outputs": [],
   "source": [
    "%%bash\n",
    "module load plink\n",
    "#2 prune data\n",
    "plink --noweb --bfile cleaning/Gc070geno05maf05hwe6_ConsentedCallRate95SexConcordantHetLess3sd\\\n",
    " --geno 0.01 --maf 0.05 --indep-pairwise 50 5 0.5 --out cleaning/pruning\n",
    "plink --bfile cleaning/Gc070geno05maf05hwe6_ConsentedCallRate95SexConcordantHetLess3sd --extract cleaning/pruning.prune.in\\\n",
    " --make-bed --out cleaning/pruned"
   ]
  },
  {
   "cell_type": "code",
   "execution_count": null,
   "metadata": {
    "scrolled": false
   },
   "outputs": [],
   "source": [
    "%%bash\n",
    "#3 merge with hapmap\n",
    "# prune Hapmap3\n",
    "module load plink\n",
    "plink --file ../tool/hapmap/hapmap3_r3_b36_fwd.consensus.qc.poly --make-bed --out cleaning/hapmap3\n",
    "plink --bfile cleaning/hapmap3 --extract cleaning/pruning.prune.in --make-bed --out cleaning/hapmap3_pruned\n",
    "# Get the list of uncommon snps between the cohort and hapmap3\n",
    "plink --bfile cleaning/pruned --bmerge cleaning/hapmap3_pruned --out cleaning/hapmap3_bin_snplis --make-bed\n",
    "# Flip the uncommon snps in the cohort\n",
    "plink --bfile cleaning/pruned --flip cleaning/hapmap3_bin_snplis-merge.missnp --make-bed --out cleaning/pruned_flipped\n",
    "# Merge the cohort with hapmap3\n",
    "plink --bfile cleaning/pruned_flipped --bmerge cleaning/hapmap3_pruned --geno 0.05 --out cleaning/hapmap3_merged  --make-bed"
   ]
  },
  {
   "cell_type": "code",
   "execution_count": null,
   "metadata": {
    "scrolled": true
   },
   "outputs": [],
   "source": [
    "%%bash\n",
    "module load plink\n",
    "plink --noweb --bfile cleaning/hapmap3_merged --out cleaning/pca --pca header\n",
    "# awk '{print $1\"\\t\"$2\"\\t\"$6\"\\t\"\"STUDY\"}' cleaning/pruned.fam > cleaning/pruned_pop.txt\n",
    "awk '{$6=2 ; print $1\"\\t\"$2\"\\t\"$6\"\\t\"\"STUDY\"}' cleaning/pruned.fam  > cleaning/pruned_pop.txt # $6 == 2 (All cases)\n",
    "cat ../tool/hapmap/hapmap3_popsAnotated.txt  cleaning/pruned_pop.txt > cleaning/hapmap3_merged_pop.txt\n",
    "echo '\n",
    "library(\"ggplot2\")\n",
    "pcs <- read.table(\"cleaning/pca.eigenvec\", header = T)\n",
    "pops <- read.table(\"cleaning/hapmap3_merged_pop.txt\", header = T, stringsAsFactors = F)\n",
    "pops$Population = ifelse(pops$Population==\"1\", \"STUDY_CTRL\", pops$Population)\n",
    "pops$Population = ifelse(pops$Population==\"2\", \"STUDY_CASE\", pops$Population)\n",
    "pops$Population = ifelse(pops$Population==\"-9\", \"STUDY_UNKOWN\", pops$Population)\n",
    "pops$Population <- factor(pops$Population, levels = c(\"ASW\", \"CEU\", \"CHB\", \"CHD\", \"GIH\", \"JPT\", \"LWK\", \"MEX\", \"MKK\", \"TSI\", \"YRI\",\n",
    " \"STUDY_CTRL\", \"STUDY_CASE\", \"STUDY_UNNOWN\"))\n",
    "pcs$index <- paste(pcs$FID, pcs$IID, sep = \"_\")\n",
    "pops$index <- paste(pops$FID, pops$IID, sep = \"_\")\n",
    "data <- merge(pcs, pops, by = \"index\")\n",
    "data$FID = data$FID.x\n",
    "data$IID = data$IID.x\n",
    "#### now build reference ranges\n",
    "asia <- subset(data, Continent == \"Asia\")\n",
    "africa <- subset(data, Continent == \"Africa\")\n",
    "europe <- subset(data, Continent == \"Europe\")\n",
    "asia.mean.pc1 <- mean(asia$PC1)\n",
    "asia.mean.pc2 <- mean(asia$PC2)\n",
    "asia.sd.pc1 <- sd(asia$PC1)\n",
    "asia.sd.pc2 <- sd(asia$PC2)\n",
    "asia.low.pc1 <- asia.mean.pc1 - (6*asia.sd.pc1)\n",
    "asia.low.pc2 <- asia.mean.pc2 - (6*asia.sd.pc2)\n",
    "asia.hi.pc1 <- asia.mean.pc1 + (6*asia.sd.pc1)\n",
    "asia.hi.pc2 <- asia.mean.pc2 + (6*asia.sd.pc2)\n",
    "africa.mean.pc1 <- mean(africa$PC1)\n",
    "africa.mean.pc2 <- mean(africa$PC2)\n",
    "africa.sd.pc1 <- sd(africa$PC1)\n",
    "africa.sd.pc2 <- sd(africa$PC2)\n",
    "africa.low.pc1 <- africa.mean.pc1 - (6*africa.sd.pc1)\n",
    "africa.low.pc2 <- africa.mean.pc2 - (6*africa.sd.pc2)\n",
    "africa.hi.pc1 <- africa.mean.pc1 + (6*africa.sd.pc1)\n",
    "africa.hi.pc2 <- africa.mean.pc2 + (6*africa.sd.pc2)\n",
    "europe.mean.pc1 <- mean(europe$PC1)\n",
    "europe.mean.pc2 <- mean(europe$PC2)\n",
    "europe.sd.pc1 <- sd(europe$PC1)\n",
    "europe.sd.pc2 <- sd(europe$PC2)\n",
    "europe.low.pc1 <- europe.mean.pc1 - (6*europe.sd.pc1)\n",
    "europe.low.pc2 <- europe.mean.pc2 - (6*europe.sd.pc2)\n",
    "europe.hi.pc1 <- europe.mean.pc1 + (6*europe.sd.pc1)\n",
    "europe.hi.pc2 <- europe.mean.pc2 + (6*europe.sd.pc2)\n",
    "data$Ancestry <- \"Admixed\"\n",
    "data$Ancestry[data$PC1 >= europe.low.pc1 & data$PC2 >= europe.low.pc2 & data$PC1 <= europe.hi.pc1 & data$PC2 <= europe.hi.pc2] <- \"European\"\n",
    "data$Ancestry[data$PC1 >= africa.low.pc1 & data$PC2 >= africa.low.pc2 & data$PC1 <= africa.hi.pc1 & data$PC2 <= africa.hi.pc2] <- \"African\"\n",
    "data$Ancestry[data$PC1 >= asia.low.pc1 & data$PC2 >= asia.low.pc2 & data$PC1 <= asia.hi.pc1 & data$PC2 <= asia.hi.pc2] <- \"Asian\"\n",
    "### export your data by ancestry\n",
    "cohort <- subset(data, Continent == \"STUDY\")\n",
    "cohort.europe <- subset(cohort, Ancestry == \"European\")\n",
    "cohort.african <- subset(cohort, Ancestry == \"African\")\n",
    "cohort.asian <- subset(cohort, Ancestry == \"Asian\")\n",
    "cohort.admixed <- subset(cohort, Ancestry == \"Admixed\")\n",
    "cohort.europe.ids <- cohort.europe[,c(\"FID\",\"IID\")]\n",
    "cohort.african.ids <- cohort.african[,c(\"FID\",\"IID\")]\n",
    "cohort.asian.ids <- cohort.asian[,c(\"FID\",\"IID\")]\n",
    "cohort.admixed.ids <- cohort.admixed[,c(\"FID\",\"IID\")]\n",
    "write.table(cohort.europe.ids, \"cleaning/cohort.europe.txt\", quote = F, sep = \"\\t\", row.names = F)\n",
    "write.table(cohort.african.ids, \"cleaning/cohort.african.txt\", quote = F, sep = \"\\t\", row.names = F)\n",
    "write.table(cohort.asian.ids, \"cleaning/cohort.asian.txt\", quote = F, sep = \"\\t\", row.names = F)\n",
    "write.table(cohort.admixed.ids, \"cleaning/cohort.admixed.txt\", quote = F, sep = \"\\t\", row.names = F)\n",
    "#### repot\n",
    "plotTemp1 <- ggplot(data, aes(PC1, PC2, color = Population, shape = Continent)) + geom_point() + theme_bw()\n",
    "plotTemp1 <- ggplot(data, aes(PC1, PC2, color = Population, shape = Continent)) + geom_point() +\n",
    "    geom_point(data = cohort) + theme_bw()\n",
    "plotTemp2 <- plotTemp1 + \n",
    " geom_rect(aes(xmin = europe.low.pc1, xmax = europe.hi.pc1, ymin = europe.low.pc2, ymax = europe.hi.pc2), fill = NA, color = \"grey\", linetype = 2) +\n",
    " geom_rect(aes(xmin = africa.low.pc1, xmax = africa.hi.pc1, ymin = africa.low.pc2, ymax = africa.hi.pc2), fill = NA, color = \"grey\", linetype = 2) + \n",
    " geom_rect(aes(xmin = asia.low.pc1, xmax = asia.hi.pc1, ymin = asia.low.pc2, ymax = asia.hi.pc2), fill = NA, color = \"grey\", linetype = 2)\n",
    "ggsave(filename = \"cleaning/pcaPlot.jpeg\", plot = plotTemp1)\n",
    "ggsave(filename = \"cleaning/pcaPlotPlusBoxes.jpeg\", plot = plotTemp2)' > cleaning/hapmap3_merged_PCA.R\n",
    "module load R\n",
    "Rscript --vanilla cleaning/hapmap3_merged_PCA.R\n",
    "plink --bfile cleaning/Gc070geno05maf05hwe6_ConsentedCallRate95SexConcordantHetLess3sd\\\n",
    " --keep cleaning/cohort.europe.txt --make-bed --out cleaning/Gc070geno05maf05hwe6_ConsentedCallRate95SexConcordantHetLess3sdEUR"
   ]
  },
  {
   "cell_type": "markdown",
   "metadata": {},
   "source": [
    "pcaPlotPlusBoxes.jpeg![image.png](fig/pcaPlotPlusBoxes.jpeg)"
   ]
  },
  {
   "cell_type": "markdown",
   "metadata": {},
   "source": [
    "### 8. Filter out related individuals\n",
    "cutoff 0.125"
   ]
  },
  {
   "cell_type": "code",
   "execution_count": null,
   "metadata": {
    "scrolled": false
   },
   "outputs": [],
   "source": [
    "%%bash\n",
    "mkdir -p cleaned\n",
    "module load plink GCTA\n",
    "plink --bfile cleaning/Gc070geno05maf05hwe6_ConsentedCallRate95SexConcordantHetLess3sdEUR\\\n",
    " --geno 0.01 --maf 0.05 --hwe 0.0001 --indep-pairwise 50 5 0.5 --out cleaning/pruningAgain\n",
    "plink --bfile cleaning/Gc070geno05maf05hwe6_ConsentedCallRate95SexConcordantHetLess3sdEUR\\\n",
    " --extract cleaning/pruningAgain.prune.in --make-bed --out cleaning/forRelatedCheck\n",
    "gcta64 --bfile cleaning/forRelatedCheck --make-grm --out cleaning/GRM_matrix --autosome --maf 0.05\n",
    "gcta64 --grm-cutoff 0.125 --grm cleaning/GRM_matrix --out cleaning/GRM_matrix_0125 --make-grm\n",
    "plink --bfile cleaning/Gc070geno05maf05hwe6_ConsentedCallRate95SexConcordantHetLess3sdEUR\\\n",
    " --keep cleaning/GRM_matrix_0125.grm.id --make-bed --out cleaned/S4_QCed\n",
    "## Code only using plink \n",
    "# plink --bfile cleaning/Gc070geno05maf05hwe6_ConsentedCallRate95SexConcordantHetLess3sdEUR --rel-cutoff 0.125\\\n",
    "#  --out cleaning/checkingRelatives0125\n",
    "# plink --noweb --bfile cleaning/Gc070geno05maf05hwe6_ConsentedCallRate95SexConcordantHetLess3sdEUR\\\n",
    "#  --keep cleaning/checkingRelatives0125.rel.id --make-bed --out cleaned/S4_QCed"
   ]
  },
  {
   "cell_type": "markdown",
   "metadata": {},
   "source": [
    "## Summary of general QC process\n",
    "Please see the following ouput."
   ]
  },
  {
   "cell_type": "code",
   "execution_count": 1,
   "metadata": {},
   "outputs": [
    {
     "name": "stdout",
     "output_type": "stream",
     "text": [
      "1. Input file\n",
      "Number of people in the cohort\n",
      "81\n",
      "Number of variants\n",
      "487374\n",
      "\n",
      "2. GenTrain > 0.7\n",
      "Number of variants excluded by this step\n",
      "190674\n",
      "\n",
      "3. Sample call rate check\n",
      "Number of individuals excluded by this step\n",
      "0\n",
      "\n",
      "4. Sex check\n",
      "Number of individuals excluded by this step\n",
      "1\n",
      "\n",
      "5. SNP filtering\n",
      "(SNP with maf>0.05, missing call rate <0.05 and HWD > 1e-6)\n",
      "Number of variants LEFT\n",
      "234375\n",
      "\n",
      "6. Extreme heterozygosity\n",
      "Number of individuals excluded by this step\n",
      "\n",
      "7. Ancestry check\n",
      "(Only keep europeans in the next step)\n",
      "Number of Europeans\n",
      "76\n",
      "Number of Africans\n",
      "1\n",
      "Number of Asians\n",
      "0\n",
      "Number of Admixed\n",
      "3\n",
      "\n",
      "8. Relatedness check\n",
      "Number of samples IN the final data\n",
      "76\n"
     ]
    }
   ],
   "source": [
    "%%bash\n",
    "echo \"1. Input file\n",
    "Number of people in the cohort\"\n",
    "cat cleaning/RawData_Binary.fam | wc -l\n",
    "echo 'Number of variants'\n",
    "tail -n +2 genotyped/SNP_Map.txt | wc -l\n",
    "echo '\n",
    "2. GenTrain > 0.7\n",
    "Number of variants excluded by this step'\n",
    "cat cleaning/LowGenTrainSnpsToExclude.txt | wc -l\n",
    "echo \"\n",
    "3. Sample call rate check\n",
    "Number of individuals excluded by this step\"\n",
    "tail -n +2 cleaning/LowCallSamplesToRemove.txt | wc -l\n",
    "echo \"\n",
    "4. Sex check\n",
    "Number of individuals excluded by this step\"\n",
    "cat -n cleaning/SexCheckFailedSamplesToRemove.txt | wc -l\n",
    "echo '\n",
    "5. SNP filtering\n",
    "(SNP with maf>0.05, missing call rate <0.05 and HWD > 1e-6)\n",
    "Number of variants LEFT'\n",
    "wc -l cleaning/Gc070geno05maf05hwe6_ConsentedCallRate95SexConcordant.bim | cut -d' ' -f1\n",
    "echo '\n",
    "6. Extreme heterozygosity\n",
    "Number of individuals excluded by this step'\n",
    "# cat cleaning/HetOutliersToRemove.txt | wc -l\n",
    "\n",
    "echo '\n",
    "7. Ancestry check\n",
    "(Only keep europeans in the next step)'\n",
    "echo 'Number of Europeans'\n",
    "tail -n +2 cleaning/cohort.europe.txt | wc -l\n",
    "echo 'Number of Africans'\n",
    "tail -n +2 cleaning/cohort.african.txt | wc -l\n",
    "echo 'Number of Asians'\n",
    "tail -n +2 cleaning/cohort.asian.txt | wc -l\n",
    "echo 'Number of Admixed'\n",
    "tail -n +2 cleaning/cohort.admixed.txt | wc -l\n",
    "echo '\n",
    "8. Relatedness check\n",
    "Number of samples IN the final data'\n",
    "cat cleaning/GRM_matrix_0125.grm.id | wc -l"
   ]
  },
  {
   "cell_type": "markdown",
   "metadata": {},
   "source": [
    "### Supplement. PCs for Qced samples"
   ]
  },
  {
   "cell_type": "code",
   "execution_count": null,
   "metadata": {
    "scrolled": false
   },
   "outputs": [],
   "source": [
    "%%bash\n",
    "module load plink\n",
    "plink --noweb --bfile cleaned/S4_QCed --geno 0.01 --maf 0.05 --hwe 0.000001 --indep 50 5 2 --out cleaning/QCed_pruning\n",
    "plink --noweb --bfile cleaned/S4_QCed --extract cleaning/QCed_pruning.prune.in --make-bed --out cleaning/QCed_pruned\n",
    "plink --bfile cleaning/QCed_pruned --pca header --out cleaned/S4_QCed"
   ]
  },
  {
   "cell_type": "markdown",
   "metadata": {},
   "source": [
    "# Genetic risk score\n",
    "Calculated from the latest GWAS\n",
    "https://doi.org/10.1101/388165"
   ]
  },
  {
   "cell_type": "code",
   "execution_count": null,
   "metadata": {},
   "outputs": [],
   "source": [
    "%%bash\n",
    "rm -f grs/_toSearch.txt\n",
    "awk '{print $48, $1,toupper($26),$29}' grs/Meta5.tab |  sed 's/ /\\t/g' | sed 's/chr//g' > grs/_Meta5reduced.txt\n",
    "awk '{print $1,$3,$4}' grs/_Meta5reduced.txt  > grs/_Meta5score.txt\n",
    "cut -f1 grs/_Meta5reduced.txt | tail -n +2 >> grs/_toSearch.txt\n",
    "cut -f2 grs/_Meta5reduced.txt | tail -n +2 >> grs/_toSearch.txt\n",
    "sed -i 's/$/ /' grs/_toSearch.txt\n",
    "grep -f grs/_toSearch.txt interest/forSearch.txt > grs/_Meta5inChip.txt"
   ]
  },
  {
   "cell_type": "code",
   "execution_count": 13,
   "metadata": {},
   "outputs": [
    {
     "name": "stdout",
     "output_type": "stream",
     "text": [
      "PLINK v1.90b4.4 64-bit (21 May 2017)           www.cog-genomics.org/plink/1.9/\n",
      "(C) 2005-2017 Shaun Purcell, Christopher Chang   GNU General Public License v3\n",
      "Logging to grs/grs.log.\n",
      "Options in effect:\n",
      "  --bfile cleaning/CallRate95\n",
      "  --out grs/grs\n",
      "  --score grs/_Meta5reduced.txt 1 3 4 header\n",
      "\n",
      "257653 MB RAM detected; reserving 128826 MB for main workspace.\n",
      "296700 variants loaded from .bim file.\n",
      "81 people (51 males, 30 females) loaded from .fam.\n",
      "Using 1 thread (no multithreaded calculations invoked).\n",
      "Before main variant filters, 81 founders and 0 nonfounders present.\n",
      "Calculating allele frequencies... 0%\b\b1%\b\b2%\b\b3%\b\b4%\b\b5%\b\b6%\b\b7%\b\b8%\b\b9%\b\b10%\b\b\b11%\b\b\b12%\b\b\b13%\b\b\b14%\b\b\b15%\b\b\b16%\b\b\b17%\b\b\b18%\b\b\b19%\b\b\b20%\b\b\b21%\b\b\b22%\b\b\b23%\b\b\b24%\b\b\b25%\b\b\b26%\b\b\b27%\b\b\b28%\b\b\b29%\b\b\b30%\b\b\b31%\b\b\b32%\b\b\b33%\b\b\b34%\b\b\b35%\b\b\b36%\b\b\b37%\b\b\b38%\b\b\b39%\b\b\b40%\b\b\b41%\b\b\b42%\b\b\b43%\b\b\b44%\b\b\b45%\b\b\b46%\b\b\b47%\b\b\b48%\b\b\b49%\b\b\b50%\b\b\b51%\b\b\b52%\b\b\b53%\b\b\b54%\b\b\b55%\b\b\b56%\b\b\b57%\b\b\b58%\b\b\b59%\b\b\b60%\b\b\b61%\b\b\b62%\b\b\b63%\b\b\b64%\b\b\b65%\b\b\b66%\b\b\b67%\b\b\b68%\b\b\b69%\b\b\b70%\b\b\b71%\b\b\b72%\b\b\b73%\b\b\b74%\b\b\b75%\b\b\b76%\b\b\b77%\b\b\b78%\b\b\b79%\b\b\b80%\b\b\b81%\b\b\b82%\b\b\b83%\b\b\b84%\b\b\b85%\b\b\b86%\b\b\b87%\b\b\b88%\b\b\b89%\b\b\b90%\b\b\b91%\b\b\b92%\b\b\b93%\b\b\b94%\b\b\b95%\b\b\b96%\b\b\b97%\b\b\b98%\b\b\b99%\b\b\b\b done.\n",
      "Total genotyping rate is 0.998884.\n",
      "296700 variants and 81 people pass filters and QC.\n",
      "Note: No phenotypes present.\n",
      "--score: 2 valid predictors loaded.\n",
      "--score: Results written to grs/grs.profile .\n"
     ]
    },
    {
     "name": "stderr",
     "output_type": "stream",
     "text": [
      "[+] Loading plink  1.9.0-beta4.4  on cn3267 \n",
      "Warning: 6321 het. haploid genotypes present (see grs/grs.hh ); many commands\n",
      "treat these as missing.\n",
      "Warning: Nonmissing nonmale Y chromosome genotype(s) present; many commands\n",
      "treat these as missing.\n",
      "Warning: 90 lines skipped in --score file (87 due to variant ID mismatch, 3 due\n",
      "to allele code mismatch); see grs/grs.nopred for details.\n"
     ]
    }
   ],
   "source": [
    "%%bash\n",
    "module load plink\n",
    "plink --bfile cleaning/CallRate95 --score grs/_Meta5reduced.txt 1 3 4 header  --out grs/grs"
   ]
  }
 ],
 "metadata": {
  "kernelspec": {
   "display_name": "Python 3",
   "language": "python",
   "name": "python3"
  },
  "language_info": {
   "codemirror_mode": {
    "name": "ipython",
    "version": 3
   },
   "file_extension": ".py",
   "mimetype": "text/x-python",
   "name": "python",
   "nbconvert_exporter": "python",
   "pygments_lexer": "ipython3",
   "version": "3.5.5"
  }
 },
 "nbformat": 4,
 "nbformat_minor": 2
}
