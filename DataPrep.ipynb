{
 "cells": [
  {
   "cell_type": "markdown",
   "metadata": {},
   "source": [
    "# PPMI data preparation script\n",
    "\n",
    "2018-09-10 Hirotaka Iwaki\n",
    "\n",
    "Before staring the analysis, Donwnload data from PPMI LONI site.\n",
    "\n",
    "**steps**\n",
    "1. Create 1-1 matching table for Event ID and DATE of each participant. \n",
    "2. Pull PD diagnosis information"
   ]
  },
  {
   "cell_type": "code",
   "execution_count": 1,
   "metadata": {},
   "outputs": [
    {
     "name": "stderr",
     "output_type": "stream",
     "text": [
      "\n",
      "Attaching package: 'dplyr'\n",
      "\n",
      "The following objects are masked from 'package:data.table':\n",
      "\n",
      "    between, first, last\n",
      "\n",
      "The following objects are masked from 'package:stats':\n",
      "\n",
      "    filter, lag\n",
      "\n",
      "The following objects are masked from 'package:base':\n",
      "\n",
      "    intersect, setdiff, setequal, union\n",
      "\n"
     ]
    }
   ],
   "source": [
    "# Setting\n",
    "library(data.table)\n",
    "library(dplyr)\n",
    "FOLDER = c(\"PPMI180910\")\n",
    "OUTPUT = c(\"out180910\")"
   ]
  },
  {
   "cell_type": "markdown",
   "metadata": {},
   "source": [
    "## Step 1 PATNO-EVENT-DATE matching table"
   ]
  },
  {
   "cell_type": "code",
   "execution_count": 2,
   "metadata": {},
   "outputs": [
    {
     "name": "stdout",
     "output_type": "stream",
     "text": [
      "Populate DATE and EVENT_ID from all the available files.\n",
      "\n",
      "Skip 'Signature_Form.csv' because it contains many EVENT_ID which are not seen in other files.\n",
      "Additionally, the following files will be skipped because they don't contain PATNO in the file;\n",
      " AV-133_SBR_Results.csv , Code_List.csv , Data_Dictionary.csv , Derived_Variable_Definitions_and_Score_Calculations.csv , FOUND_RFQ_Alcohol.csv , FOUND_RFQ_Anti-Inflammatory_Meds.csv , FOUND_RFQ_Caffeine.csv , FOUND_RFQ_Calcium_Channel_Blockers.csv , FOUND_RFQ_Female_Reproductive_Health.csv , FOUND_RFQ_Head_Injury.csv , FOUND_RFQ_Height___Weight.csv , FOUND_RFQ_Occupation.csv , FOUND_RFQ_Pesticides_Non-Work.csv , FOUND_RFQ_Pesticides_at_Work.csv , FOUND_RFQ_Physical_Activity.csv , FOUND_RFQ_Residential_History.csv , FOUND_RFQ_Smoking_History.csv , FOUND_RFQ_Toxicant_History.csv , IUSM_BIOSPECIMEN_CELL_CATALOG.csv , IUSM_CATALOG.csv , MRI_Imaging_Data_Transfer_Information_Source_Document.csv , Olfactory_UPSIT.csv , Page_Descriptions.csv , SPECT_Scan_Information_Source_Document.csv , \n",
      " \n",
      " \n",
      " Check how consistent the EVENT_ID-DATEs are. \n",
      "Calculate P: the probability of a certain event of individual recorded as such a date\n",
      "\n",
      "\n",
      "List of files that contains only 1 event for any participant across all files. Numbers are such obs in the file."
     ]
    },
    {
     "data": {
      "text/plain": [
       "                                       \n",
       "FILE                                    TRUE\n",
       "  AV-133_Imaging.csv                       3\n",
       "  Conclusion_of_Study_Participation.csv  353\n",
       "  Contact_Information_Brain_Bank.csv     267\n",
       "  Contact_Information_FOUND.csv            9\n",
       "  DNA_Sample_Collection.csv                2\n",
       "  DaTscan_Imaging.csv                     42\n",
       "  Features_of_REM_Behavior_Disorder.csv    5\n",
       "  Florbetaben_Eligibility.csv             14\n",
       "  Gait_Data___Arm_swing.csv                1\n",
       "  General_Medical_History.csv              5\n",
       "  Genetic_Testing_Results.csv           1119\n",
       "  Inclusion_Exclusion.csv                  3\n",
       "  Lumbar_Puncture_Sample_Collection.csv    5\n",
       "  Magnetic_Resonance_Imaging.csv           2\n",
       "  Research_Advance_Directive.csv           2\n",
       "  Surgery_for_Parkinson_Disease.csv        7\n",
       "  TAP-PD_Conclusion.csv                   12\n",
       "  TAP-PD_OPDM_Assessment.csv               1\n",
       "  TAP-PD_Subject_Eligibility.csv           3\n",
       "  Use_of_PD_Medication.csv                 3\n",
       "  Vital_Signs.csv                          2\n",
       "  iPSC_Blood_Sample.csv                   45"
      ]
     },
     "metadata": {},
     "output_type": "display_data"
    },
    {
     "name": "stdout",
     "output_type": "stream",
     "text": [
      "\n",
      " 1544 observations have different DATEs for the same EVENT_ID.\n",
      "For these events, take the most frequent DATE\n",
      "For 4 observations, the most freqent DATE of the EVENT_ID is 0.5,\n",
      "DATEs of those EVENT_IDs will be determined by the order of the filenames (because we cannot determine which is true).\n",
      "\n",
      "Next, check the chronological order of EVENT_ID. \n",
      "EVENT_ID of schduled site visits and telephone visits are used to detect inconsistency.\n",
      "\n",
      "Among 15121 obs, 2  will be deleted because chronological order is inconsitent\n",
      "After exclude these obs, check chronological orders again.\n",
      " 0 : Number of obs still problematic. 0 is expected.\n",
      " 0 : Number of obs still problematic. 0 is expected.\n",
      "Save PATNO_EVENT_DATE matching file"
     ]
    }
   ],
   "source": [
    "cat(\"Populate DATE and EVENT_ID from all the available files.\\n\n",
    "Skip 'Signature_Form.csv' because it contains many EVENT_ID which are not seen in other files.\n",
    "Additionally, the following files will be skipped because they don't contain PATNO in the file;\\n \")\n",
    "FILES = dir(path = FOLDER, full.names = F, recursive = T)\n",
    "TEMP=c()\n",
    "for (i in 1:length(FILES)){\n",
    "  if(FILES[i]==\"Signature_Form.csv\"){next} \n",
    "  CHECK = fread(paste(FOLDER, FILES[i], sep=\"/\"))\n",
    "  if(length(grep(\"^PATNO$\", names(CHECK)))==0){cat(FILES[i], \", \");next}\n",
    "  TEMP1 = fread(paste(FOLDER, FILES[i], sep=\"/\"), na.strings = '', header = T, quote=\"\\\"\", \n",
    "                colClasses = c(\"PATNO\"=\"character\")) \n",
    "  if(length(grep(\"^EVENT_ID$|^INFODT$\", names(TEMP1)))==2){\n",
    "    TEMP2 = TEMP1 %>% select(PATNO, EVENT_ID, INFODT) %>% \n",
    "      mutate(DATE = as.numeric(as.Date(paste(\"01\", INFODT, sep=\"/\"), format=\"%d/%m/%Y\"))) %>% # pad 01 and cal days from 1970-01-01\n",
    "      arrange(DATE) %>% \n",
    "      distinct(PATNO, EVENT_ID, .keep_all = T) %>%\n",
    "      .[complete.cases(.),]%>% \n",
    "      select(PATNO, EVENT_ID, DATE) %>% mutate(FILE = FILES[i]) %>% data.frame\n",
    "    if(!exists(\"TEMP\")){TEMP=TEMP2}else{\n",
    "      TEMP = bind_rows(TEMP, TEMP2)\n",
    "    }\n",
    "  }else{next}\n",
    "}\n",
    "\n",
    "\n",
    "cat(\"\\n \\n \\n Check how consistent the EVENT_ID-DATEs are. \n",
    "Calculate P: the probability of a certain event of individual recorded as such a date\\n\")\n",
    "temp = TEMP %>% arrange(DATE) %>% \n",
    "  group_by(PATNO, EVENT_ID) %>% mutate(NUM_E = n()) %>% data.frame %>%  \n",
    "  group_by(PATNO, EVENT_ID, DATE) %>% mutate(NUM_E_D = n()) %>% data.frame %>% \n",
    "  mutate(P = NUM_E_D / NUM_E) %>% \n",
    "  distinct(PATNO, EVENT_ID, NUM_E_D, .keep_all = T) %>%\n",
    "  arrange(PATNO, DATE) \n",
    "\n",
    "cat(\"\\n\\nList of files that contains only 1 event for any participant across all files. Numbers are such obs in the file.\")\n",
    "temp %>%  filter(NUM_E == 1) %>% with(table(FILE, NUM_E==1))\n",
    "temp %>% filter(P<1) %>% nrow %>% cat(\"\\n\", ., \"observations have different DATEs for the same EVENT_ID.\n",
    "For these events, take the most frequent DATE\")\n",
    "temp2 = temp %>% arrange(PATNO, EVENT_ID, desc(P)) %>% distinct(PATNO, EVENT_ID, .keep_all = T) \n",
    "temp2 %>% filter(P == 0.5) %>% nrow %>% cat(\"\\nFor\", ., \"observations, the most freqent DATE of the EVENT_ID is 0.5,\n",
    "DATEs of those EVENT_IDs will be determined by the order of the filenames (because we cannot determine which is true).\\n\n",
    "Next, check the chronological order of EVENT_ID. \n",
    "EVENT_ID of schduled site visits and telephone visits are used to detect inconsistency.\\n\")\n",
    "\n",
    "# Code to see the names of EVENT_IDs\n",
    "# unique(temp$EVENT_ID) %>% .[-grep(\"^T\", .)] %>% paste(., collapse = '\",\"')\n",
    "\n",
    "Visits = c(\"SC\", \"BL\", sprintf(\"%s%02d\", \"V\", 1:20))\n",
    "TVisits= c(\"TSC\", \"TBL\", sprintf(\"%s%02d\", \"T\", 1:99))\n",
    "temp3.1 = temp2 %>% \n",
    "  filter(EVENT_ID %in% Visits) %>% \n",
    "  mutate(V = factor(EVENT_ID, levels = Visits)) %>% \n",
    "  arrange(PATNO, V) %>% \n",
    "  group_by(PATNO) %>% \n",
    "  mutate(DATEbef = lag(DATE, default = first(DATE)),\n",
    "         DATEaft = lead(DATE, default = last(DATE))) %>% \n",
    "  data.frame %>% filter(DATE < DATEbef | DATE > DATEaft ) %>% select(-\"V\")\n",
    "temp3.2 = temp2 %>% \n",
    "  filter(EVENT_ID %in% TVisits) %>% \n",
    "  mutate(V = factor(EVENT_ID, levels = TVisits)) %>% \n",
    "  arrange(PATNO, V) %>% \n",
    "  group_by(PATNO) %>% \n",
    "  mutate(DATEbef = lag(DATE, default = first(DATE)),\n",
    "         DATEaft = lead(DATE, default = last(DATE))) %>% \n",
    "  data.frame %>% filter(DATE < DATEbef | DATE > DATEaft ) %>% select(-\"V\")\n",
    "temp3 = bind_rows(temp3.1, temp3.2) # the list of not chronologially consistent events\n",
    "nrow(temp2) %>% cat(\"\\nAmong\", ., \"obs, \")\n",
    "nrow(temp3) %>% cat(., \" will be deleted because chronological order is inconsitent\")\n",
    "temp4 = anti_join(temp2, temp3, by=c(\"PATNO\", \"EVENT_ID\"))\n",
    "cat(\"\\nAfter exclude these obs, check chronological orders again.\")\n",
    "temp4 %>% \n",
    "  filter(EVENT_ID %in% Visits) %>% \n",
    "  mutate(V = factor(EVENT_ID, levels = Visits)) %>% \n",
    "  arrange(PATNO, V) %>% \n",
    "  group_by(PATNO) %>% \n",
    "  mutate(DATEdiff = DATE - lag(DATE, default = first(DATE))) %>% \n",
    "  data.frame %>% filter(DATEdiff<0) %>% select(-\"V\") %>% nrow %>%\n",
    "  cat(\"\\n\",., \": Number of obs still problematic. 0 is expected.\" )\n",
    "temp4 %>% \n",
    "  filter(EVENT_ID %in% TVisits) %>% \n",
    "  mutate(V = factor(EVENT_ID, levels = TVisits)) %>% \n",
    "  arrange(PATNO, V) %>% \n",
    "  group_by(PATNO) %>% \n",
    "  mutate(DATEdiff = DATE - lag(DATE, default = first(DATE))) %>% \n",
    "  data.frame %>% filter(DATEdiff<0) %>% select(-\"V\")%>% nrow %>%\n",
    "  cat(\"\\n\",., \": Number of obs still problematic. 0 is expected.\" )\n",
    "cat(\"\\nSave PATNO_EVENT_DATE matching file\")\n",
    "EDtable = temp4 %>% select(PATNO, EVENT_ID, DATE)\n",
    "write.csv(EDtable, paste(OUTPUT, \"PATNO_EVENTID_DATE.csv\", sep=\"/\"), row.names=F)"
   ]
  },
  {
   "cell_type": "markdown",
   "metadata": {},
   "source": [
    "## Step 2 PD diagnosis"
   ]
  },
  {
   "cell_type": "code",
   "execution_count": 3,
   "metadata": {},
   "outputs": [
    {
     "name": "stdout",
     "output_type": "stream",
     "text": [
      "Pull information from 'Patient_Status.csv'\n",
      "\n",
      "Check ENROLL_STATUS by contingency table. \n",
      "Note:If dup > 1 it indiates duplicated IDs in the file and need to be checked.\n"
     ]
    },
    {
     "data": {
      "text/plain": [
       "      ENROLL_STATUS\n",
       "dup    Declined Enrolled Excluded Pending Withdrew <NA>\n",
       "  1         111     1679      201      19      131    0\n",
       "  <NA>        0        0        0       0        0    0"
      ]
     },
     "metadata": {},
     "output_type": "display_data"
    },
    {
     "name": "stdout",
     "output_type": "stream",
     "text": [
      "\n",
      "Contingency table for cohorts and image results. RECRUIT=PD has SWEDD category. GEN has image but not REG"
     ]
    },
    {
     "data": {
      "text/plain": [
       "          IMG\n",
       "RECRUIT    GENPD GENUN  HC  PD PRODROMA REGPD REGUN SWEDD no image <NA>\n",
       "  GENPD      209     0   0   0        0     0     0     0       60    0\n",
       "  GENUN        0   335   0   0        0     0     0     0       28    0\n",
       "  HC           0     0 241   0        0     0     0     0        0    0\n",
       "  PD           0     0   0 450        0     0     0    79       41    0\n",
       "  PRODROMA     0     0   0   0      194     0     0     0       22    0\n",
       "  REGPD        0     0   0   0        0     4     0     0      209    0\n",
       "  REGUN        0     0   0   0        0     0     1     0      268    0\n",
       "  <NA>         0     0   0   0        0     0     0     0        0    0"
      ]
     },
     "metadata": {},
     "output_type": "display_data"
    },
    {
     "name": "stdout",
     "output_type": "stream",
     "text": [
      "\n",
      "Contingency table for RECRUIT cohort and Subcategories. RECRUIT=PRODROMA has HYP and RBD. RECRUIT=GEN/REG have genetics information"
     ]
    },
    {
     "data": {
      "text/plain": [
       "          SUBCAT\n",
       "RECRUIT        GBA+ GBA- HYP LRRK2+ LRRK2- RBD SNCA+ SNCA- <NA>\n",
       "  GENPD      0   82    0   0    165      0   0    22     0    0\n",
       "  GENUN      0  149    1   0    204      2   0     7     0    0\n",
       "  HC       241    0    0   0      0      0   0     0     0    0\n",
       "  PD       570    0    0   0      0      0   0     0     0    0\n",
       "  PRODROMA   1    0    0 119      0      0  96     0     0    0\n",
       "  REGPD      0   52    0   0    156      0   0     5     0    0\n",
       "  REGUN      0  102    2   0    144     12   0     7     2    0\n",
       "  <NA>       0    0    0   0      0      0   0     0     0    0"
      ]
     },
     "metadata": {},
     "output_type": "display_data"
    }
   ],
   "source": [
    "cat(\"Pull information from 'Patient_Status.csv'\\n\\n\")\n",
    "temp = fread(paste(FOLDER, 'Patient_Status.csv', sep='/'), \n",
    "                 colClasses = c(\"PATNO\"=\"character\")) %>%\n",
    "  mutate(RECRUIT = RECRUITMENT_CAT,\n",
    "         IMG = IMAGING_CAT,\n",
    "         SUBCAT = DESCRP_CAT) %>% \n",
    "  select(PATNO, RECRUIT, IMG, SUBCAT, ENROLL_DATE, ENROLL_STATUS)\n",
    "cat(\"Check ENROLL_STATUS by contingency table. \n",
    "Note:If dup > 1 it indiates duplicated IDs in the file and need to be checked.\\n\")\n",
    "temp %>% group_by(PATNO) %>% mutate(dup = n()) %>% with(table(dup, ENROLL_STATUS, useNA = \"always\"))\n",
    "cat(\"\\nContingency table for cohorts and image results. RECRUIT=PD has SWEDD category. GEN has image but not REG\")\n",
    "temp %>% with(table(RECRUIT, IMG, useNA = \"always\"))\n",
    "cat(\"\\nContingency table for RECRUIT cohort and Subcategories. RECRUIT=PRODROMA has HYP and RBD. RECRUIT=GEN/REG have genetics information\")\n",
    "temp %>% with(table(RECRUIT, SUBCAT, useNA = \"always\"))\n",
    "STATUS = temp"
   ]
  },
  {
   "cell_type": "code",
   "execution_count": 4,
   "metadata": {},
   "outputs": [
    {
     "name": "stdout",
     "output_type": "stream",
     "text": [
      "Obatin the initial diagnosis, and the latest diagnosis from 'Primary_Diagnosis.csv'.\n",
      "\n",
      "Contingency table for DX_LAST x RECRUIT cohort. The file only covers primary PPMI cohorts"
     ]
    },
    {
     "data": {
      "text/plain": [
       "             RECRUIT\n",
       "DX_LAST       GENPD GENUN  HC  PD PRODROMA REGPD REGUN <NA>\n",
       "  CBD             0     0   1   1        0     0     0    0\n",
       "  DLB             0     0   0   3        0     0     0    0\n",
       "  ET              0     0   2   4        0     0     0    0\n",
       "  MSA             0     0   0   5        0     0     0    0\n",
       "  NoDisease       0     0 222   2        0     0     0    0\n",
       "  OtherD          0     0   6   6        0     0     0    0\n",
       "  Psychogenic     0     0   0   2        0     0     0    0\n",
       "  iPD             0     0   3 531        0     0     0    0\n",
       "  <NA>          269   363   7  16      216   213   269    0"
      ]
     },
     "metadata": {},
     "output_type": "display_data"
    },
    {
     "name": "stdout",
     "output_type": "stream",
     "text": [
      "Further pull the initial and the last DX from 'Prodromal_Diagnostic_Questionnaire.csv'."
     ]
    },
    {
     "data": {
      "text/plain": [
       "           RECRUIT\n",
       "DX_LAST     GENPD GENUN  HC  PD PRODROMA REGPD REGUN <NA>\n",
       "  DLB           0     0   0   0        2     0     0    0\n",
       "  DrugPKS       0     1   0   0        0     0     1    0\n",
       "  ET            0    10   0   0        1     0     2    0\n",
       "  Hemi_PKS      0     1   0   0        0     0     0    0\n",
       "  MSA           0     0   0   0        2     0     0    0\n",
       "  NoDisease     0   305   0   0       55     0   242    0\n",
       "  OtherD        0     2   0   0        5     0     8    0\n",
       "  PrdrM         0    21   0   0        8     0     5    0\n",
       "  PrdrNM        0     4   0   0      103     0     1    0\n",
       "  iPD           0    11   0   0       12     0     3    0\n",
       "  <NA>        269     8 241 570       28   213     7    0"
      ]
     },
     "metadata": {},
     "output_type": "display_data"
    }
   ],
   "source": [
    "cat(\"Obatin the initial diagnosis, and the latest diagnosis from 'Primary_Diagnosis.csv'.\\n\\n\")\n",
    "dxcode=data.frame(\n",
    "    CODE = c(1:18, 23, 24, 97), \n",
    "    DX = c(\"iPD\", \"Alz\", \"FTD_Chr17\", \"CBD\", \"DLB\", \"Dysto_DopaR\", \"ET\", \"Hemi_PKS\", \"ARPD\", \"MNDwPKS\",\n",
    "            \"MSA\", \"DrugPKS\", \"NPH\", \"PSP\", \"Psychogenic\", \"VasPKS\", \"NoDisease\", \"SCA\", \"PrdrNM\", \"PrdrM\",\"OtherD\"))\n",
    "diag1=fread(paste(FOLDER, 'Primary_Diagnosis.csv', sep='/'), \n",
    "            colClasses = c(\"PATNO\"=\"character\")) %>%\n",
    "  filter(!(is.na(PATNO))) %>% \n",
    "  mutate(DXCODE = as.numeric(PRIMDIAG)) %>% \n",
    "  select(PATNO, EVENT_ID, DXCODE) %>% \n",
    "  inner_join(., EDtable, by = c(\"PATNO\", \"EVENT_ID\")) %>%\n",
    "  arrange(desc(DATE)) %>% \n",
    "  distinct(PATNO, .keep_all = T) %>%\n",
    "  left_join(., dxcode, by = c(\"DXCODE\"=\"CODE\")) %>% \n",
    "  rename(DATE_LASTDX = DATE, DX_LAST = DX, EVENT_LAST=EVENT_ID)\n",
    "diag2=fread(paste(FOLDER, 'Primary_Diagnosis.csv', sep='/'), \n",
    "            colClasses = c(\"PATNO\"=\"character\")) %>%\n",
    "  filter(!(is.na(PATNO))) %>% \n",
    "  mutate(DXCODE = as.numeric(PRIMDIAG)) %>% \n",
    "  select(PATNO, EVENT_ID, DXCODE) %>% \n",
    "  inner_join(., EDtable, by = c(\"PATNO\", \"EVENT_ID\")) %>%\n",
    "  arrange(DATE) %>% \n",
    "  distinct(PATNO, .keep_all = T) %>%\n",
    "  left_join(., dxcode, by = c(\"DXCODE\"=\"CODE\")) %>% \n",
    "  rename(DATE_INITDX = DATE, DX_INIT = DX, EVENT_INIT=EVENT_ID) \n",
    "diag_PPMI = full_join(diag1, diag2, by = \"PATNO\") %>% select(-starts_with(\"DXCODE\"))\n",
    "cat(\"Contingency table for DX_LAST x RECRUIT cohort. The file only covers primary PPMI cohorts\")\n",
    "left_join(STATUS, diag_PPMI, by = \"PATNO\") %>% mutate(DX_LAST = as.character(DX_LAST)) %>% with(table(DX_LAST, RECRUIT, useNA = \"always\"))\n",
    "\n",
    "cat(\"Further pull the initial and the last DX from 'Prodromal_Diagnostic_Questionnaire.csv'.\")\n",
    "diag1=fread(paste(FOLDER, 'Prodromal_Diagnostic_Questionnaire.csv', sep='/'), \n",
    "            colClasses = c(\"PATNO\"=\"character\")) %>%\n",
    "  filter(!(is.na(PATNO))) %>% \n",
    "  mutate(DXCODE = as.numeric(PRIMDIAG)) %>% \n",
    "  select(PATNO, EVENT_ID, DXCODE) %>% \n",
    "  inner_join(., EDtable, by = c(\"PATNO\", \"EVENT_ID\")) %>%\n",
    "  arrange(desc(DATE)) %>% \n",
    "  distinct(PATNO, .keep_all = T) %>%\n",
    "  left_join(., dxcode, by = c(\"DXCODE\"=\"CODE\")) %>% \n",
    "  rename(DATE_LASTDX = DATE, DX_LAST = DX, EVENT_LAST=EVENT_ID)\n",
    "diag2=fread(paste(FOLDER, 'Prodromal_Diagnostic_Questionnaire.csv', sep='/'), \n",
    "            colClasses = c(\"PATNO\"=\"character\")) %>%\n",
    "  filter(!(is.na(PATNO))) %>% \n",
    "  mutate(DXCODE = as.numeric(PRIMDIAG)) %>% \n",
    "  select(PATNO, EVENT_ID, DXCODE) %>% \n",
    "  inner_join(., EDtable, by = c(\"PATNO\", \"EVENT_ID\")) %>%\n",
    "  arrange(DATE) %>% \n",
    "  distinct(PATNO, .keep_all = T) %>%\n",
    "  left_join(., dxcode, by = c(\"DXCODE\"=\"CODE\")) %>% \n",
    "  rename(DATE_INITDX = DATE, DX_INIT = DX, EVENT_INIT=EVENT_ID) \n",
    "diag_PROD = full_join(diag1, diag2, by = \"PATNO\") %>% select(-starts_with(\"DXCODE\"))\n",
    "left_join(STATUS, diag_PROD, by = \"PATNO\") %>%  mutate(DX_LAST = as.character(DX_LAST)) %>% with(table(DX_LAST, RECRUIT, useNA = \"always\"))"
   ]
  },
  {
   "cell_type": "code",
   "execution_count": 5,
   "metadata": {},
   "outputs": [
    {
     "name": "stdout",
     "output_type": "stream",
     "text": [
      "\n",
      "Compare the initial diagnosis and the last one. Note this contingency table includes people only had SC visit"
     ]
    },
    {
     "data": {
      "text/plain": [
       "             DX_INIT\n",
       "DX_LAST       DLB  ET Hemi_PKS NoDisease OtherD PrdrM PrdrNM Psychogenic iPD\n",
       "  CBD           0   0        0         1      0     0      0           0   1\n",
       "  DLB           1   0        0         0      0     0      2           0   2\n",
       "  DrugPKS       0   0        0         2      0     0      0           0   0\n",
       "  ET            0  11        0         6      0     0      0           0   2\n",
       "  Hemi_PKS      0   0        1         0      0     0      0           0   0\n",
       "  MSA           0   0        0         0      1     0      1           0   5\n",
       "  NoDisease     0   2        0       821      1     0      0           0   2\n",
       "  OtherD        0   0        0         5     16     0      1           0   5\n",
       "  PrdrM         0   0        0        22      0     5      7           0   0\n",
       "  PrdrNM        0   0        0         2      0     0    106           0   0\n",
       "  Psychogenic   0   0        0         0      0     0      0           1   1\n",
       "  iPD           0   0        0         7      1     2      8           0 542\n",
       "  <NA>          0   0        0         0      0     0      0           0   0\n",
       "             DX_INIT\n",
       "DX_LAST       <NA>\n",
       "  CBD            0\n",
       "  DLB            0\n",
       "  DrugPKS        0\n",
       "  ET             0\n",
       "  Hemi_PKS       0\n",
       "  MSA            0\n",
       "  NoDisease      0\n",
       "  OtherD         0\n",
       "  PrdrM          0\n",
       "  PrdrNM         0\n",
       "  Psychogenic    0\n",
       "  iPD            0\n",
       "  <NA>           1"
      ]
     },
     "metadata": {},
     "output_type": "display_data"
    },
    {
     "name": "stdout",
     "output_type": "stream",
     "text": [
      "\n",
      "Compare the initial diagnosis and the last one. Exclude people only had SC visit"
     ]
    },
    {
     "data": {
      "text/plain": [
       "             DX_INIT\n",
       "DX_LAST        ET NoDisease OtherD PrdrM PrdrNM iPD <NA>\n",
       "  CBD           0         1      0     0      0   1    0\n",
       "  DLB           0         0      0     0      2   2    0\n",
       "  DrugPKS       0         2      0     0      0   0    0\n",
       "  ET            3         6      0     0      0   2    0\n",
       "  MSA           0         0      1     0      1   5    0\n",
       "  NoDisease     2       495      1     0      0   2    0\n",
       "  OtherD        0         5      3     0      1   5    0\n",
       "  PrdrM         0        22      0     1      7   0    0\n",
       "  PrdrNM        0         2      0     0     39   0    0\n",
       "  Psychogenic   0         0      0     0      0   1    0\n",
       "  iPD           0         7      1     2      8 414    0\n",
       "  <NA>          0         0      0     0      0   0    0"
      ]
     },
     "metadata": {},
     "output_type": "display_data"
    }
   ],
   "source": [
    "diag = bind_rows(diag_PPMI, diag_PROD) %>% mutate(DAYS_DXDIFF = DATE_LASTDX - DATE_INITDX)\n",
    "cat(\"\\nCompare the initial diagnosis and the last one. Note this contingency table includes people only had SC visit\")\n",
    "diag %>% mutate_at(vars(starts_with(\"DX\")), as.character) %>% \n",
    "  with(table(DX_LAST, DX_INIT, useNA = \"always\"))\n",
    "cat(\"\\nCompare the initial diagnosis and the last one. Exclude people only had SC visit\")\n",
    "diag %>% mutate_at(vars(starts_with(\"DX\")), as.character) %>% \n",
    "  filter(DAYS_DXDIFF>0) %>% \n",
    "  with(table(DX_LAST, DX_INIT, useNA = \"always\"))"
   ]
  },
  {
   "cell_type": "code",
   "execution_count": 6,
   "metadata": {},
   "outputs": [
    {
     "name": "stdout",
     "output_type": "stream",
     "text": [
      "Now all people enrolled have diagnosis. \n",
      " UP : recruitment category and inital diagnosis \n",
      " BOTTOM : the same but with latest diagnosis. \n",
      " 13 recruited as PD were diagnosed differently"
     ]
    },
    {
     "data": {
      "text/plain": [
       "           RECRUIT\n",
       "DX_INIT     GENPD GENUN  HC  PD PRODROMA REGPD REGUN <NA>\n",
       "  ET            0     6   1   0        0     0     2    0\n",
       "  NoDisease     0   319 166   0        2     0   240    0\n",
       "  OtherD        0     2   2   0        2     0     7    0\n",
       "  PrdrM         0     2   0   0        1     0     3    0\n",
       "  PrdrNM        0     1   0   0       55     0     1    0\n",
       "  iPD           0     7   0 413        0     0     3    0\n",
       "  <NA>        243     3   0   0        0   198     0    0"
      ]
     },
     "metadata": {},
     "output_type": "display_data"
    },
    {
     "data": {
      "text/plain": [
       "           RECRUIT\n",
       "DX_LAST     GENPD GENUN  HC  PD PRODROMA REGPD REGUN <NA>\n",
       "  CBD           0     0   1   1        0     0     0    0\n",
       "  DLB           0     0   0   2        2     0     0    0\n",
       "  DrugPKS       0     1   0   0        0     0     1    0\n",
       "  ET            0     9   2   2        0     0     2    0\n",
       "  MSA           0     0   0   4        2     0     0    0\n",
       "  NoDisease     0   292 158   0        1     0   236    0\n",
       "  OtherD        0     2   5   4        1     0     8    0\n",
       "  PrdrM         0    20   0   0        6     0     5    0\n",
       "  PrdrNM        0     3   0   0       37     0     1    0\n",
       "  iPD           0    10   3 400       11     0     3    0\n",
       "  <NA>        243     3   0   0        0   198     0    0"
      ]
     },
     "metadata": {},
     "output_type": "display_data"
    }
   ],
   "source": [
    "temp = left_join(STATUS, diag, by = \"PATNO\")\n",
    "cat(\"Now all people enrolled have diagnosis. \\n UP : recruitment category and inital diagnosis \\n BOTTOM : the same but with latest diagnosis. \\n 13 recruited as PD were diagnosed differently\")\n",
    "temp %>% filter(ENROLL_STATUS == \"Enrolled\") %>% mutate(DX_INIT = as.character(DX_INIT)) %>% with(table(DX_INIT, RECRUIT, useNA = \"always\"))\n",
    "temp %>% filter(ENROLL_STATUS == \"Enrolled\") %>% mutate(DX_LAST = as.character(DX_LAST)) %>% with(table(DX_LAST, RECRUIT, useNA = \"always\"))"
   ]
  },
  {
   "cell_type": "code",
   "execution_count": 7,
   "metadata": {
    "scrolled": false
   },
   "outputs": [
    {
     "name": "stdout",
     "output_type": "stream",
     "text": [
      "Create New Status/Diagnosis/Image IndicatorSTATUS of PPMI/HC cohorts."
     ]
    },
    {
     "data": {
      "text/plain": [
       "                    RECRUIT\n",
       "DIAG                  HC  PD <NA>\n",
       "  In__CBD_YsImg_PPMI   1   1    0\n",
       "  In__CTR_YsImg_PPMI 158   0    0\n",
       "  In__DFR_SWEDD_PPMI   0   4    0\n",
       "  In__DFR_YsImg_PPMI   5   0    0\n",
       "  In__DLB_YsImg_PPMI   0   2    0\n",
       "  In__EST_SWEDD_PPMI   0   2    0\n",
       "  In__EST_YsImg_PPMI   2   0    0\n",
       "  In__MSA_YsImg_PPMI   0   4    0\n",
       "  In__iPD_NoImg_PPMI   0   5    0\n",
       "  In__iPD_SWEDD_PPMI   0  47    0\n",
       "  In__iPD_YsImg_PPMI   3 348    0\n",
       "  Out_CTR_SWEDD_PPMI   0   2    0\n",
       "  Out_CTR_YsImg_PPMI  64   0    0\n",
       "  Out_DFR_SWEDD_PPMI   0   2    0\n",
       "  Out_DFR_YsImg_PPMI   1   0    0\n",
       "  Out_DLB_NoImg_PPMI   0   1    0\n",
       "  Out_EST_NoImg_PPMI   0   1    0\n",
       "  Out_EST_YsImg_PPMI   0   1    0\n",
       "  Out_MSA_YsImg_PPMI   0   1    0\n",
       "  Out_PSY_NoImg_PPMI   0   1    0\n",
       "  Out_PSY_SWEDD_PPMI   0   1    0\n",
       "  Out_iPD_NoImg_PPMI   0  17    0\n",
       "  Out_iPD_SWEDD_PPMI   0  21    0\n",
       "  Out_iPD_YsImg_PPMI   0  93    0\n",
       "  <NA>                 0   0    0"
      ]
     },
     "metadata": {},
     "output_type": "display_data"
    },
    {
     "name": "stdout",
     "output_type": "stream",
     "text": [
      "STATUS of other cohorts."
     ]
    },
    {
     "data": {
      "text/plain": [
       "                         RECRUIT\n",
       "DIAG                      GENUN PRODROMA REGUN <NA>\n",
       "  In__CTR_NoImg_GBA+          5        0    89    0\n",
       "  In__CTR_NoImg_GBA-          0        0     1    0\n",
       "  In__CTR_NoImg_LRRK2+        7        0   133    0\n",
       "  In__CTR_NoImg_LRRK2-        1        0    10    0\n",
       "  In__CTR_NoImg_SNCA+         0        0     3    0\n",
       "  In__CTR_YsImg_GBA+        124        0     0    0\n",
       "  In__CTR_YsImg_HYP           0        1     0    0\n",
       "  In__CTR_YsImg_LRRK2+      149        0     0    0\n",
       "  In__CTR_YsImg_SNCA+         6        0     0    0\n",
       "  In__DFR_NoImg_GBA+          0        0     5    0\n",
       "  In__DFR_NoImg_LRRK2+        0        0     2    0\n",
       "  In__DFR_NoImg_SNCA+         0        0     1    0\n",
       "  In__DFR_YsImg_LRRK2+        2        0     0    0\n",
       "  In__DFR_YsImg_RBD           0        1     0    0\n",
       "  In__DLB_YsImg_RBD           0        2     0    0\n",
       "  In__DRG_NoImg_LRRK2+        0        0     1    0\n",
       "  In__DRG_YsImg_LRRK2+        1        0     0    0\n",
       "  In__EST_NoImg_GBA+          0        0     2    0\n",
       "  In__EST_YsImg_GBA+          5        0     0    0\n",
       "  In__EST_YsImg_LRRK2+        4        0     0    0\n",
       "  In__MSA_YsImg_RBD           0        2     0    0\n",
       "  In__PRD_NoImg_GBA+          0        0     3    0\n",
       "  In__PRD_NoImg_LRRK2+        1        0     2    0\n",
       "  In__PRD_YsImg_GBA+          1        0     0    0\n",
       "  In__PRD_YsImg_HYP           0       17     0    0\n",
       "  In__PRD_YsImg_LRRK2+       21        0     1    0\n",
       "  In__PRD_YsImg_RBD           0       26     0    0\n",
       "  In__iPD_NoImg_GBA+          0        0     1    0\n",
       "  In__iPD_NoImg_LRRK2+        0        0     2    0\n",
       "  In__iPD_YsImg_GBA+          1        0     0    0\n",
       "  In__iPD_YsImg_HYP           0        5     0    0\n",
       "  In__iPD_YsImg_LRRK2+        9        0     0    0\n",
       "  In__iPD_YsImg_RBD           0        6     0    0\n",
       "  Out_CTR_NoImg_GBA+          1        0     2    0\n",
       "  Out_CTR_NoImg_GBA-          0        0     1    0\n",
       "  Out_CTR_NoImg_HYP           0        4     0    0\n",
       "  Out_CTR_NoImg_LRRK2+        3        0     3    0\n",
       "  Out_CTR_YsImg_GBA+          2        0     0    0\n",
       "  Out_CTR_YsImg_HYP           0       49     0    0\n",
       "  Out_CTR_YsImg_LRRK2+        6        0     0    0\n",
       "  Out_CTR_YsImg_LRRK2-        1        0     0    0\n",
       "  Out_CTR_YsImg_RBD           0        1     0    0\n",
       "  Out_DFR_YsImg_              0        1     0    0\n",
       "  Out_DFR_YsImg_HYP           0        2     0    0\n",
       "  Out_DFR_YsImg_RBD           0        1     0    0\n",
       "  Out_EST_NoImg_GBA+          1        0     0    0\n",
       "  Out_EST_YsImg_HYP           0        1     0    0\n",
       "  Out_Hemi_PKS_NoImg_GBA+     1        0     0    0\n",
       "  Out_PRD_NoImg_HYP           0        1     0    0\n",
       "  Out_PRD_YsImg_GBA+          2        0     0    0\n",
       "  Out_PRD_YsImg_HYP           0       31     0    0\n",
       "  Out_PRD_YsImg_RBD           0       36     0    0\n",
       "  Out_iPD_YsImg_GBA+          1        0     0    0\n",
       "  Out_iPD_YsImg_HYP           0        1     0    0\n",
       "  <NA>                        0        0     0    0"
      ]
     },
     "metadata": {},
     "output_type": "display_data"
    }
   ],
   "source": [
    "cat(\"Create New Status/Diagnosis/Image Indicator\")\n",
    "temp1= temp %>% filter(!is.na(DX_INIT)) %>%\n",
    "  mutate(DIAG = paste(\n",
    "  ifelse(ENROLL_STATUS==\"Enrolled\", \"In_\", \"Out\"),\n",
    "  case_when(\n",
    "    is.na(DX_LAST) ~ \"XXX\",\n",
    "    DX_LAST == \"iPD\" ~ \"iPD\",\n",
    "    DX_LAST == \"NoDisease\" ~ \"CTR\",\n",
    "    DX_LAST == \"PrdrM\" | DX_LAST == \"PrdrNM\" ~ \"PRD\",\n",
    "    DX_LAST == \"OtherD\" ~ \"DFR\",\n",
    "    DX_LAST == \"ET\" ~ \"EST\",\n",
    "    DX_LAST == \"DrugPKS\" ~ \"DRG\",\n",
    "    DX_LAST == \"Psychogenic\" ~ \"PSY\",\n",
    "    TRUE ~ as.character(DX_LAST)),\n",
    "  case_when(\n",
    "    IMG == \"SWEDD\" ~ \"SWEDD\",\n",
    "    IMG == \"no image\" ~ \"NoImg\",\n",
    "    TRUE ~ \"YsImg\"),\n",
    "  ifelse(SUBCAT==\"\" & I(RECRUIT %in% c(\"PD\", \"HC\")) , \"PPMI\", SUBCAT),\n",
    "  sep = \"_\"\n",
    "))\n",
    "cat(\"STATUS of PPMI/HC cohort\")\n",
    "temp1 %>% .[grep(\"PPMI\", .$DIAG), ] %>% \n",
    "  with(table(DIAG, RECRUIT, useNA = \"always\"))\n",
    "temp1 %>% .[-grep(\"PPMI\", .$DIAG), ] %>% \n",
    "  with(table(DIAG, RECRUIT, useNA = \"always\"))"
   ]
  }
 ],
 "metadata": {
  "kernelspec": {
   "display_name": "R",
   "language": "R",
   "name": "ir"
  },
  "language_info": {
   "codemirror_mode": "r",
   "file_extension": ".r",
   "mimetype": "text/x-r-source",
   "name": "R",
   "pygments_lexer": "r",
   "version": "3.5.0"
  }
 },
 "nbformat": 4,
 "nbformat_minor": 2
}
